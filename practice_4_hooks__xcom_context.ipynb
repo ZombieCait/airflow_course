{
  "nbformat": 4,
  "nbformat_minor": 0,
  "metadata": {
    "colab": {
      "provenance": [],
      "collapsed_sections": [
        "-64g1qdqWmMO",
        "M8aJ9VjmYH-e"
      ]
    },
    "kernelspec": {
      "name": "python3",
      "display_name": "Python 3"
    },
    "language_info": {
      "name": "python"
    }
  },
  "cells": [
    {
      "cell_type": "markdown",
      "metadata": {
        "id": "Z0I-IEE0ohyt"
      },
      "source": [
        "### Настройка Airflow\n",
        "\n",
        "Для начала вам необходимо выполнить ряд команд чтобы настроить окружение для дальнейшей работы, это позволит первое время не заниматься настройкой среды исполнения, а сразу начать писать код и работать с Airflow."
      ]
    },
    {
      "cell_type": "code",
      "metadata": {
        "id": "0unBvZMyx5H-"
      },
      "source": [
        "# Установка Airflow\n",
        "!pip install apache-airflow==2.1.4\n",
        "\n",
        "# Инициализация базы данных\n",
        "!airflow db init"
      ],
      "execution_count": null,
      "outputs": []
    },
    {
      "cell_type": "code",
      "metadata": {
        "id": "Ri_LIxa4z08a"
      },
      "source": [
        "# Создадим необходимые папки\n",
        "!mkdir /root/airflow/dags\n",
        "!touch /root/airflow/dags/dag.py"
      ],
      "execution_count": null,
      "outputs": []
    },
    {
      "cell_type": "code",
      "metadata": {
        "id": "Qx1Jfp2O0CBP"
      },
      "source": [
        "# Включим веб-сервер\n",
        "!airflow webserver -p 18273 -D"
      ],
      "execution_count": null,
      "outputs": []
    },
    {
      "cell_type": "code",
      "metadata": {
        "id": "6AicRo890Iyp"
      },
      "source": [
        "# Создадим пользователя Airflow\n",
        "!airflow users create \\\n",
        "          --username admin \\\n",
        "          --firstname admin \\\n",
        "          --lastname admin \\\n",
        "          --role Admin \\\n",
        "          --email admin@example.org \\\n",
        "          -p 12345"
      ],
      "execution_count": null,
      "outputs": []
    },
    {
      "cell_type": "markdown",
      "metadata": {
        "id": "QZDvtrO63ntq"
      },
      "source": [
        "Поместите в dag.py следующий код.\n",
        "\n",
        "```python\n",
        "from airflow import DAG\n",
        "from datetime import timedelta\n",
        "from airflow.utils.dates import days_ago\n",
        "from airflow.operators.dummy_operator import DummyOperator\n",
        "\n",
        "dag = DAG('dag',schedule_interval=timedelta(days=1), start_date=days_ago(1))\n",
        "t1 = DummyOperator(task_id='task_1', dag=dag)\n",
        "t2 = DummyOperator(task_id='task_2',dag=dag)\n",
        "t3 = DummyOperator(task_id='task_3',dag=dag)\n",
        "t4 = DummyOperator(task_id='task_4',dag=dag)\n",
        "t5 = DummyOperator(task_id='task_5',dag=dag)\n",
        "t6 = DummyOperator(task_id='task_6',dag=dag)\n",
        "t7 = DummyOperator(task_id='task_7',dag=dag)\n",
        "\n",
        "[t1, t2]>>t5\n",
        "t3>>t6\n",
        "[t5,t6] >>  t7\n",
        "t4\n",
        "```"
      ]
    },
    {
      "cell_type": "code",
      "metadata": {
        "id": "kXlUN86A3m1o"
      },
      "source": [
        "# Запуск шедулера\n",
        "!airflow scheduler -D"
      ],
      "execution_count": null,
      "outputs": []
    },
    {
      "cell_type": "code",
      "metadata": {
        "id": "A7jJGmYR3nGP"
      },
      "source": [
        "# Последующие команды не имеют отношения к Airflow\n",
        "# Они нужни только для корректной работы веб морды\n",
        "# в среде Google Colab\n",
        "\n",
        "!pip install pyngrok\n",
        "!ngrok authtoken <YOUR TOKEN> # найти его можно https://dashboard.ngrok.com/get-started/setup \n",
        "\n",
        "# Эта команда просто отображет веб морду на другой адрес\n",
        "# Его вы можете найти https://dashboard.ngrok.com/cloud-edge/status\n",
        "# При каждом отключении ссылка будет меняться\n",
        "!nohup ngrok http -log=stdout 18273 > /dev/null &"
      ],
      "execution_count": null,
      "outputs": []
    },
    {
      "cell_type": "markdown",
      "metadata": {
        "id": "6sbOlBAm4fUp"
      },
      "source": [
        "После запуска команды выше, перейдите по адресу в ngrok и подождите  пока появится DAG с именем dag"
      ]
    },
    {
      "cell_type": "markdown",
      "metadata": {
        "id": "cT_WObnV6apR"
      },
      "source": [
        "### Практика\n",
        "\n",
        "**Весь код необходимо вставлять в dag.py**"
      ]
    },
    {
      "cell_type": "markdown",
      "metadata": {
        "id": "-64g1qdqWmMO"
      },
      "source": [
        "#### Xcom\n"
      ]
    },
    {
      "cell_type": "markdown",
      "metadata": {
        "id": "gUEe4hwIYEab"
      },
      "source": [
        "Вставьте следующий код в dag.py, после исполните его в вебе и перейдите на вкладку **Admins->Xcom**\n",
        "\n",
        "**Задание #1**\n",
        "\n",
        "Укажите то что написано в поле Task Id\n",
        "\n",
        "```python\n",
        "import airflow\n",
        "from airflow import DAG\n",
        "from airflow.utils.dates import days_ago\n",
        "from airflow.operators.python_operator import PythonOperator\n",
        " \n",
        "args = {'owner': 'airflow', 'start_date': days_ago(1), 'provide_context': True }\n",
        "dag = DAG('dag',schedule_interval='@once', default_args=args)\n",
        " \n",
        "value_2 = {'a': 'b'}\n",
        " \n",
        "def push(**kwargs):\n",
        "    kwargs['ti'].xcom_push(key='key', value=value_2)\n",
        " \n",
        "def pull(**kwargs):\n",
        "    print(kwargs['ti'].xcom_pull(key='key', task_ids='push'))\n",
        " \n",
        "push1 = PythonOperator(\n",
        "    task_id='push', dag=dag, python_callable=push)\n",
        "pull1 = PythonOperator(\n",
        "    task_id='pull', dag=dag, python_callable=pull)\n",
        " \n",
        "push1 >> pull1\n",
        "```"
      ]
    },
    {
      "cell_type": "markdown",
      "metadata": {
        "id": "M8aJ9VjmYH-e"
      },
      "source": [
        "#### Запрос в БД к таблице Xcom\n",
        "\n",
        "Обратимся к Xcom чтобы убедиться что это простая таблица с несколькими полями\n",
        "\n",
        "**Задание #2**\n",
        "\n",
        "Вставьте путь до базы данных в качестве ответа"
      ]
    },
    {
      "cell_type": "code",
      "metadata": {
        "id": "2iyp5jCWYG0B"
      },
      "source": [
        "%load_ext sql\n",
        "%config SqlMagic.feedback=False \n",
        "%config SqlMagic.autopandas=True\n",
        "%sql sqlite:////root//airflow/airflow.db\n",
        "%sql select * from xcom"
      ],
      "execution_count": null,
      "outputs": []
    }
  ]
}