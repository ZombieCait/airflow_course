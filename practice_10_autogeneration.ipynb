{
  "nbformat": 4,
  "nbformat_minor": 0,
  "metadata": {
    "colab": {
      "provenance": []
    },
    "kernelspec": {
      "name": "python3",
      "display_name": "Python 3"
    },
    "language_info": {
      "name": "python"
    }
  },
  "cells": [
    {
      "cell_type": "markdown",
      "metadata": {
        "id": "Z0I-IEE0ohyt"
      },
      "source": [
        "### Настройка Airflow\n",
        "\n",
        "Для начала вам необходимо выполнить ряд команд чтобы настроить окружение для дальнейшей работы, это позволит первое время не заниматься настройкой среды исполнения, а сразу начать писать код и работать с Airflow."
      ]
    },
    {
      "cell_type": "code",
      "metadata": {
        "id": "0unBvZMyx5H-"
      },
      "source": [
        "# Установка Airflow\n",
        "!pip install apache-airflow==2.1.4\n",
        "\n",
        "# Инициализация базы данных\n",
        "!airflow db init"
      ],
      "execution_count": null,
      "outputs": []
    },
    {
      "cell_type": "code",
      "metadata": {
        "id": "Ri_LIxa4z08a"
      },
      "source": [
        "# Создадим необходимые папки\n",
        "!mkdir /root/airflow/dags\n",
        "!touch /root/airflow/dags/dag.py"
      ],
      "execution_count": null,
      "outputs": []
    },
    {
      "cell_type": "code",
      "metadata": {
        "id": "Qx1Jfp2O0CBP"
      },
      "source": [
        "# Включим веб-сервер\n",
        "!airflow webserver -p 18273 -D"
      ],
      "execution_count": null,
      "outputs": []
    },
    {
      "cell_type": "code",
      "metadata": {
        "id": "6AicRo890Iyp"
      },
      "source": [
        "# Создадим пользователя Airflow\n",
        "!airflow users create \\\n",
        "          --username admin \\\n",
        "          --firstname admin \\\n",
        "          --lastname admin \\\n",
        "          --role Admin \\\n",
        "          --email admin@example.org \\\n",
        "          -p 12345"
      ],
      "execution_count": null,
      "outputs": []
    },
    {
      "cell_type": "markdown",
      "metadata": {
        "id": "TM8WyU1X5VEO"
      },
      "source": [
        "#### Запуск шедулера и вебсервиса"
      ]
    },
    {
      "cell_type": "code",
      "metadata": {
        "id": "kXlUN86A3m1o",
        "colab": {
          "base_uri": "https://localhost:8080/"
        },
        "outputId": "b41601c7-16fa-4877-cc68-3f79561f4963"
      },
      "source": [
        "# Запуск шедулера\n",
        "!airflow scheduler -D"
      ],
      "execution_count": null,
      "outputs": [
        {
          "output_type": "stream",
          "text": [
            "  ____________       _____________\n",
            " ____    |__( )_________  __/__  /________      __\n",
            "____  /| |_  /__  ___/_  /_ __  /_  __ \\_ | /| / /\n",
            "___  ___ |  / _  /   _  __/ _  / / /_/ /_ |/ |/ /\n",
            " _/_/  |_/_/  /_/    /_/    /_/  \\____/____/|__/\n"
          ],
          "name": "stdout"
        }
      ]
    },
    {
      "cell_type": "code",
      "metadata": {
        "id": "A7jJGmYR3nGP",
        "colab": {
          "base_uri": "https://localhost:8080/"
        },
        "outputId": "354e5fb2-a318-4dde-8e6b-433b1596aba2"
      },
      "source": [
        "# Последующие команды не имеют отношения к Airflow\n",
        "# Они нужни только для корректной работы веб морды\n",
        "# в среде Google Colab\n",
        "\n",
        "!pip install pyngrok\n",
        "!ngrok authtoken <YOUR TOKEN> # найти его можно https://dashboard.ngrok.com/get-started/setup \n",
        "\n",
        "# Эта команда просто отображет веб морду на другой адрес\n",
        "# Его вы можете найти https://dashboard.ngrok.com/cloud-edge/status\n",
        "# При каждом отключении ссылка будет меняться\n",
        "!nohup ngrok http -log=stdout 18273 > /dev/null &"
      ],
      "execution_count": null,
      "outputs": [
        {
          "output_type": "stream",
          "text": [
            "nohup: redirecting stderr to stdout\n"
          ],
          "name": "stdout"
        }
      ]
    },
    {
      "cell_type": "markdown",
      "metadata": {
        "id": "6sbOlBAm4fUp"
      },
      "source": [
        "После запуска команды выше, перейдите по адресу в ngrok и подождите  пока появится DAG с именем dag"
      ]
    },
    {
      "cell_type": "markdown",
      "metadata": {
        "id": "3-6w5rOr5Eb3"
      },
      "source": [
        "### Практика"
      ]
    },
    {
      "cell_type": "markdown",
      "metadata": {
        "id": "amq2wv_u5LWl"
      },
      "source": [
        "#### Автогенерация задач"
      ]
    },
    {
      "cell_type": "markdown",
      "metadata": {
        "id": "QZDvtrO63ntq"
      },
      "source": [
        "Поместите в dag.py следующий код. Посмотрите результаты в веб интерфейсе.\n",
        "\n",
        "**Задание #1**\n",
        "\n",
        "Сложите все номера задач, это будет ответом.\n",
        "\n",
        "```python\n",
        "from airflow import DAG\n",
        "from datetime import timedelta\n",
        "from airflow.utils.dates import days_ago\n",
        "from airflow.operators.dummy_operator import DummyOperator\n",
        "\n",
        "dag = DAG('dag',schedule_interval=timedelta(days=1), start_date=days_ago(1))\n",
        "\n",
        "tasks_list=list()\n",
        "for i in range(0, 10):\n",
        "    tasks_list.append(DummyOperator(task_id=f'task_{i}', dag=dag))\n",
        "    if i:\n",
        "      tasks_list[i-1] >> tasks_list[i]\n",
        "```"
      ]
    },
    {
      "cell_type": "code",
      "source": [
        "sum(range(0,10))"
      ],
      "metadata": {
        "id": "VMObrj-dpbO3"
      },
      "execution_count": null,
      "outputs": []
    },
    {
      "cell_type": "markdown",
      "metadata": {
        "id": "K9h2olr95Q1S"
      },
      "source": [
        "#### Автогенерация дагов"
      ]
    },
    {
      "cell_type": "markdown",
      "metadata": {
        "id": "r9h7MmkR5GRr"
      },
      "source": [
        "Поместите в dag.py следующий код. Посмотрите результаты в веб интерфейсе.\n",
        "\n",
        "**Задание #2**\n",
        "\n",
        "Сложите сумму дагов друг с другом, это и будет ответ.\n",
        "\n",
        "```python\n",
        "from airflow import DAG\n",
        "from datetime import datetime\n",
        "from airflow.operators.dummy_operator import DummyOperator\n",
        "\n",
        "def create_dag(dag_id,\n",
        "               default_args,\n",
        "               schedule='@daily'):\n",
        "\n",
        "    dag = DAG(dag_id,\n",
        "              schedule_interval=schedule,\n",
        "              default_args=default_args)\n",
        "\n",
        "    with dag:\n",
        "        t1 = DummyOperator(task_id=f'task', dag=dag)\n",
        "\n",
        "    return dag\n",
        "\n",
        "\n",
        "# build a dag for each number in range(10)\n",
        "for n in range(1, 4):\n",
        "    dag_id = f'dag_{n+65}'\n",
        "\n",
        "    default_args = {'owner': 'airflow',\n",
        "                    'start_date': datetime(2021, 1, 1)\n",
        "                    }\n",
        "\n",
        "\n",
        "    globals()[dag_id] = create_dag(dag_id, default_args)\n",
        "```"
      ]
    }
  ]
}