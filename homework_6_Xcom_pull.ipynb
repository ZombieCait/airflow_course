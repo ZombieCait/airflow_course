{
  "nbformat": 4,
  "nbformat_minor": 0,
  "metadata": {
    "colab": {
      "provenance": []
    },
    "kernelspec": {
      "name": "python3",
      "display_name": "Python 3"
    },
    "language_info": {
      "name": "python"
    }
  },
  "cells": [
    {
      "cell_type": "markdown",
      "metadata": {
        "id": "Z0I-IEE0ohyt"
      },
      "source": [
        "### Настройка Airflow\n",
        "\n",
        "Для начала вам необходимо выполнить ряд команд чтобы настроить окружение для дальнейшей работы, это позволит первое время не заниматься настройкой среды исполнения, а сразу начать писать код и работать с Airflow."
      ]
    },
    {
      "cell_type": "code",
      "metadata": {
        "id": "0unBvZMyx5H-",
        "colab": {
          "base_uri": "https://localhost:8080/"
        },
        "outputId": "fd45a686-8131-405e-a171-ab0b132fcd2b"
      },
      "source": [
        "# Установка Airflow\n",
        "!pip install \"apache-airflow[telegram]==2.1.4\" --constraint \"https://raw.githubusercontent.com/apache/airflow/constraints-2.1.4/constraints-3.7.txt\"\n",
        "\n",
        "# Инициализация базы данных\n",
        "!airflow db init"
      ],
      "execution_count": 1,
      "outputs": [
        {
          "output_type": "stream",
          "name": "stdout",
          "text": [
            "Looking in indexes: https://pypi.org/simple, https://us-python.pkg.dev/colab-wheels/public/simple/\n",
            "Requirement already satisfied: apache-airflow[telegram]==2.1.4 in /usr/local/lib/python3.8/dist-packages (2.1.4)\n",
            "Requirement already satisfied: argcomplete~=1.10 in /usr/local/lib/python3.8/dist-packages (from apache-airflow[telegram]==2.1.4) (1.12.3)\n",
            "Requirement already satisfied: flask-caching<2.0.0,>=1.5.0 in /usr/local/lib/python3.8/dist-packages (from apache-airflow[telegram]==2.1.4) (1.10.1)\n",
            "Requirement already satisfied: jinja2<4,>=2.10.1 in /usr/local/lib/python3.8/dist-packages (from apache-airflow[telegram]==2.1.4) (2.11.3)\n",
            "Requirement already satisfied: importlib-metadata>=1.7 in /usr/local/lib/python3.8/dist-packages (from apache-airflow[telegram]==2.1.4) (4.8.1)\n",
            "Requirement already satisfied: jsonschema~=3.0 in /usr/local/lib/python3.8/dist-packages (from apache-airflow[telegram]==2.1.4) (3.2.0)\n",
            "Requirement already satisfied: flask-appbuilder<4.0.0,>=3.3.2 in /usr/local/lib/python3.8/dist-packages (from apache-airflow[telegram]==2.1.4) (3.3.3)\n",
            "Requirement already satisfied: termcolor>=1.1.0 in /usr/local/lib/python3.8/dist-packages (from apache-airflow[telegram]==2.1.4) (1.1.0)\n",
            "Requirement already satisfied: werkzeug>=1.0.1,~=1.0 in /usr/local/lib/python3.8/dist-packages (from apache-airflow[telegram]==2.1.4) (1.0.1)\n",
            "Requirement already satisfied: colorlog<6.0,>=4.0.2 in /usr/local/lib/python3.8/dist-packages (from apache-airflow[telegram]==2.1.4) (4.8.0)\n",
            "Requirement already satisfied: lockfile>=0.12.2 in /usr/local/lib/python3.8/dist-packages (from apache-airflow[telegram]==2.1.4) (0.12.2)\n",
            "Requirement already satisfied: apache-airflow-providers-sqlite in /usr/local/lib/python3.8/dist-packages (from apache-airflow[telegram]==2.1.4) (2.0.1)\n",
            "Requirement already satisfied: sqlalchemy-jsonfield~=1.0 in /usr/local/lib/python3.8/dist-packages (from apache-airflow[telegram]==2.1.4) (1.0.0)\n",
            "Requirement already satisfied: unicodecsv>=0.14.1 in /usr/local/lib/python3.8/dist-packages (from apache-airflow[telegram]==2.1.4) (0.14.1)\n",
            "Requirement already satisfied: python-dateutil<3,>=2.3 in /usr/local/lib/python3.8/dist-packages (from apache-airflow[telegram]==2.1.4) (2.8.2)\n",
            "Requirement already satisfied: gunicorn>=19.5.0 in /usr/local/lib/python3.8/dist-packages (from apache-airflow[telegram]==2.1.4) (20.1.0)\n",
            "Requirement already satisfied: alembic<2.0,>=1.2 in /usr/local/lib/python3.8/dist-packages (from apache-airflow[telegram]==2.1.4) (1.7.3)\n",
            "Requirement already satisfied: cryptography>=0.9.3 in /usr/local/lib/python3.8/dist-packages (from apache-airflow[telegram]==2.1.4) (3.4.8)\n",
            "Requirement already satisfied: rich>=9.2.0 in /usr/local/lib/python3.8/dist-packages (from apache-airflow[telegram]==2.1.4) (10.9.0)\n",
            "Requirement already satisfied: httpx in /usr/local/lib/python3.8/dist-packages (from apache-airflow[telegram]==2.1.4) (0.19.0)\n",
            "Requirement already satisfied: tabulate<0.9,>=0.7.5 in /usr/local/lib/python3.8/dist-packages (from apache-airflow[telegram]==2.1.4) (0.8.9)\n",
            "Requirement already satisfied: croniter<1.1,>=0.3.17 in /usr/local/lib/python3.8/dist-packages (from apache-airflow[telegram]==2.1.4) (1.0.15)\n",
            "Requirement already satisfied: flask-login<0.5,>=0.3 in /usr/local/lib/python3.8/dist-packages (from apache-airflow[telegram]==2.1.4) (0.4.1)\n",
            "Requirement already satisfied: itsdangerous<2.0,>=1.1.0 in /usr/local/lib/python3.8/dist-packages (from apache-airflow[telegram]==2.1.4) (1.1.0)\n",
            "Requirement already satisfied: flask-wtf<0.15,>=0.14.3 in /usr/local/lib/python3.8/dist-packages (from apache-airflow[telegram]==2.1.4) (0.14.3)\n",
            "Requirement already satisfied: pandas<2.0,>=0.17.1 in /usr/local/lib/python3.8/dist-packages (from apache-airflow[telegram]==2.1.4) (1.3.3)\n",
            "Requirement already satisfied: docutils<0.17 in /usr/local/lib/python3.8/dist-packages (from apache-airflow[telegram]==2.1.4) (0.16)\n",
            "Requirement already satisfied: cattrs<1.7.0,~=1.1 in /usr/local/lib/python3.8/dist-packages (from apache-airflow[telegram]==2.1.4) (1.5.0)\n",
            "Requirement already satisfied: inflection>=0.3.1 in /usr/local/lib/python3.8/dist-packages (from apache-airflow[telegram]==2.1.4) (0.5.1)\n",
            "Requirement already satisfied: marshmallow-oneofschema>=2.0.1 in /usr/local/lib/python3.8/dist-packages (from apache-airflow[telegram]==2.1.4) (3.0.1)\n",
            "Requirement already satisfied: python-nvd3~=0.15.0 in /usr/local/lib/python3.8/dist-packages (from apache-airflow[telegram]==2.1.4) (0.15.0)\n",
            "Requirement already satisfied: apache-airflow-providers-ftp in /usr/local/lib/python3.8/dist-packages (from apache-airflow[telegram]==2.1.4) (2.0.1)\n",
            "Requirement already satisfied: apache-airflow-providers-http in /usr/local/lib/python3.8/dist-packages (from apache-airflow[telegram]==2.1.4) (2.0.1)\n",
            "Requirement already satisfied: blinker in /usr/local/lib/python3.8/dist-packages (from apache-airflow[telegram]==2.1.4) (1.4)\n",
            "Requirement already satisfied: setproctitle<2,>=1.1.8 in /usr/local/lib/python3.8/dist-packages (from apache-airflow[telegram]==2.1.4) (1.2.2)\n",
            "Requirement already satisfied: numpy in /usr/local/lib/python3.8/dist-packages (from apache-airflow[telegram]==2.1.4) (1.20.3)\n",
            "Requirement already satisfied: clickclick>=1.2 in /usr/local/lib/python3.8/dist-packages (from apache-airflow[telegram]==2.1.4) (20.10.2)\n",
            "Requirement already satisfied: flask<2.0,>=1.1.0 in /usr/local/lib/python3.8/dist-packages (from apache-airflow[telegram]==2.1.4) (1.1.4)\n",
            "Requirement already satisfied: python-slugify<5.0,>=3.0.0 in /usr/local/lib/python3.8/dist-packages (from apache-airflow[telegram]==2.1.4) (4.0.1)\n",
            "Requirement already satisfied: graphviz>=0.12 in /usr/local/lib/python3.8/dist-packages (from apache-airflow[telegram]==2.1.4) (0.17)\n",
            "Requirement already satisfied: sqlalchemy>=1.3.18 in /usr/local/lib/python3.8/dist-packages (from apache-airflow[telegram]==2.1.4) (1.3.24)\n",
            "Requirement already satisfied: importlib-resources~=1.4 in /usr/local/lib/python3.8/dist-packages (from apache-airflow[telegram]==2.1.4) (1.5.0)\n",
            "Requirement already satisfied: python-daemon>=2.2.4 in /usr/local/lib/python3.8/dist-packages (from apache-airflow[telegram]==2.1.4) (2.3.0)\n",
            "Requirement already satisfied: attrs<21.0,>=20.0 in /usr/local/lib/python3.8/dist-packages (from apache-airflow[telegram]==2.1.4) (20.3.0)\n",
            "Requirement already satisfied: iso8601>=0.1.12 in /usr/local/lib/python3.8/dist-packages (from apache-airflow[telegram]==2.1.4) (0.1.16)\n",
            "Requirement already satisfied: apache-airflow-providers-imap in /usr/local/lib/python3.8/dist-packages (from apache-airflow[telegram]==2.1.4) (2.0.1)\n",
            "Requirement already satisfied: tenacity~=6.2.0 in /usr/local/lib/python3.8/dist-packages (from apache-airflow[telegram]==2.1.4) (6.2.0)\n",
            "Requirement already satisfied: markupsafe<2.0,>=1.1.1 in /usr/local/lib/python3.8/dist-packages (from apache-airflow[telegram]==2.1.4) (1.1.1)\n",
            "Requirement already satisfied: lazy-object-proxy in /usr/local/lib/python3.8/dist-packages (from apache-airflow[telegram]==2.1.4) (1.4.3)\n",
            "Requirement already satisfied: openapi-spec-validator>=0.2.4 in /usr/local/lib/python3.8/dist-packages (from apache-airflow[telegram]==2.1.4) (0.3.1)\n",
            "Requirement already satisfied: pendulum~=2.0 in /usr/local/lib/python3.8/dist-packages (from apache-airflow[telegram]==2.1.4) (2.1.2)\n",
            "Requirement already satisfied: python3-openid~=3.2 in /usr/local/lib/python3.8/dist-packages (from apache-airflow[telegram]==2.1.4) (3.2.0)\n",
            "Requirement already satisfied: pygments<3.0,>=2.0.1 in /usr/local/lib/python3.8/dist-packages (from apache-airflow[telegram]==2.1.4) (2.10.0)\n",
            "Requirement already satisfied: pyyaml>=5.1 in /usr/local/lib/python3.8/dist-packages (from apache-airflow[telegram]==2.1.4) (5.4.1)\n",
            "Requirement already satisfied: markdown<4.0,>=2.5.2 in /usr/local/lib/python3.8/dist-packages (from apache-airflow[telegram]==2.1.4) (3.3.4)\n",
            "Requirement already satisfied: swagger-ui-bundle>=0.0.2 in /usr/local/lib/python3.8/dist-packages (from apache-airflow[telegram]==2.1.4) (0.0.9)\n",
            "Requirement already satisfied: psutil<6.0.0,>=4.2.0 in /usr/local/lib/python3.8/dist-packages (from apache-airflow[telegram]==2.1.4) (5.8.0)\n",
            "Requirement already satisfied: pyjwt<2 in /usr/local/lib/python3.8/dist-packages (from apache-airflow[telegram]==2.1.4) (1.7.1)\n",
            "Requirement already satisfied: dill<0.4,>=0.2.2 in /usr/local/lib/python3.8/dist-packages (from apache-airflow[telegram]==2.1.4) (0.3.1.1)\n",
            "Requirement already satisfied: apache-airflow-providers-telegram in /usr/local/lib/python3.8/dist-packages (from apache-airflow[telegram]==2.1.4) (2.0.1)\n",
            "Requirement already satisfied: Mako in /usr/local/lib/python3.8/dist-packages (from alembic<2.0,>=1.2->apache-airflow[telegram]==2.1.4) (1.1.5)\n",
            "Requirement already satisfied: click>=4.0 in /usr/local/lib/python3.8/dist-packages (from clickclick>=1.2->apache-airflow[telegram]==2.1.4) (7.1.2)\n",
            "Requirement already satisfied: cffi>=1.12 in /usr/local/lib/python3.8/dist-packages (from cryptography>=0.9.3->apache-airflow[telegram]==2.1.4) (1.14.6)\n",
            "Requirement already satisfied: Flask-SQLAlchemy<3,>=2.4 in /usr/local/lib/python3.8/dist-packages (from flask-appbuilder<4.0.0,>=3.3.2->apache-airflow[telegram]==2.1.4) (2.5.1)\n",
            "Requirement already satisfied: email-validator<2,>=1.0.5 in /usr/local/lib/python3.8/dist-packages (from flask-appbuilder<4.0.0,>=3.3.2->apache-airflow[telegram]==2.1.4) (1.1.3)\n",
            "Requirement already satisfied: Flask-OpenID<2,>=1.2.5 in /usr/local/lib/python3.8/dist-packages (from flask-appbuilder<4.0.0,>=3.3.2->apache-airflow[telegram]==2.1.4) (1.3.0)\n",
            "Requirement already satisfied: apispec[yaml]<4,>=3.3 in /usr/local/lib/python3.8/dist-packages (from flask-appbuilder<4.0.0,>=3.3.2->apache-airflow[telegram]==2.1.4) (3.3.2)\n",
            "Requirement already satisfied: marshmallow-sqlalchemy<0.24.0,>=0.22.0 in /usr/local/lib/python3.8/dist-packages (from flask-appbuilder<4.0.0,>=3.3.2->apache-airflow[telegram]==2.1.4) (0.23.1)\n",
            "Requirement already satisfied: Flask-Babel<2,>=1 in /usr/local/lib/python3.8/dist-packages (from flask-appbuilder<4.0.0,>=3.3.2->apache-airflow[telegram]==2.1.4) (1.0.0)\n",
            "Requirement already satisfied: colorama<1,>=0.3.9 in /usr/local/lib/python3.8/dist-packages (from flask-appbuilder<4.0.0,>=3.3.2->apache-airflow[telegram]==2.1.4) (0.4.4)\n",
            "Requirement already satisfied: Flask-JWT-Extended<4,>=3.18 in /usr/local/lib/python3.8/dist-packages (from flask-appbuilder<4.0.0,>=3.3.2->apache-airflow[telegram]==2.1.4) (3.25.1)\n",
            "Requirement already satisfied: prison<1.0.0,>=0.2.1 in /usr/local/lib/python3.8/dist-packages (from flask-appbuilder<4.0.0,>=3.3.2->apache-airflow[telegram]==2.1.4) (0.2.1)\n",
            "Requirement already satisfied: marshmallow-enum<2,>=1.5.1 in /usr/local/lib/python3.8/dist-packages (from flask-appbuilder<4.0.0,>=3.3.2->apache-airflow[telegram]==2.1.4) (1.5.1)\n",
            "Requirement already satisfied: sqlalchemy-utils<1,>=0.32.21 in /usr/local/lib/python3.8/dist-packages (from flask-appbuilder<4.0.0,>=3.3.2->apache-airflow[telegram]==2.1.4) (0.37.8)\n",
            "Requirement already satisfied: marshmallow<4,>=3 in /usr/local/lib/python3.8/dist-packages (from flask-appbuilder<4.0.0,>=3.3.2->apache-airflow[telegram]==2.1.4) (3.13.0)\n",
            "Requirement already satisfied: WTForms in /usr/local/lib/python3.8/dist-packages (from flask-wtf<0.15,>=0.14.3->apache-airflow[telegram]==2.1.4) (2.3.3)\n",
            "Requirement already satisfied: setuptools>=3.0 in /usr/local/lib/python3.8/dist-packages (from gunicorn>=19.5.0->apache-airflow[telegram]==2.1.4) (57.4.0)\n",
            "Requirement already satisfied: zipp>=0.5 in /usr/local/lib/python3.8/dist-packages (from importlib-metadata>=1.7->apache-airflow[telegram]==2.1.4) (3.5.0)\n",
            "Requirement already satisfied: pyrsistent>=0.14.0 in /usr/local/lib/python3.8/dist-packages (from jsonschema~=3.0->apache-airflow[telegram]==2.1.4) (0.18.0)\n",
            "Requirement already satisfied: six>=1.11.0 in /usr/local/lib/python3.8/dist-packages (from jsonschema~=3.0->apache-airflow[telegram]==2.1.4) (1.16.0)\n",
            "Requirement already satisfied: openapi-schema-validator in /usr/local/lib/python3.8/dist-packages (from openapi-spec-validator>=0.2.4->apache-airflow[telegram]==2.1.4) (0.1.5)\n",
            "Requirement already satisfied: pytz>=2017.3 in /usr/local/lib/python3.8/dist-packages (from pandas<2.0,>=0.17.1->apache-airflow[telegram]==2.1.4) (2021.1)\n",
            "Requirement already satisfied: pytzdata>=2020.1 in /usr/local/lib/python3.8/dist-packages (from pendulum~=2.0->apache-airflow[telegram]==2.1.4) (2020.1)\n",
            "Requirement already satisfied: text-unidecode>=1.3 in /usr/local/lib/python3.8/dist-packages (from python-slugify<5.0,>=3.0.0->apache-airflow[telegram]==2.1.4) (1.3)\n",
            "Requirement already satisfied: defusedxml in /usr/local/lib/python3.8/dist-packages (from python3-openid~=3.2->apache-airflow[telegram]==2.1.4) (0.7.1)\n",
            "Requirement already satisfied: commonmark<0.10.0,>=0.9.0 in /usr/local/lib/python3.8/dist-packages (from rich>=9.2.0->apache-airflow[telegram]==2.1.4) (0.9.1)\n",
            "Requirement already satisfied: requests>=2.26.0 in /usr/local/lib/python3.8/dist-packages (from apache-airflow-providers-http->apache-airflow[telegram]==2.1.4) (2.26.0)\n",
            "Requirement already satisfied: python-telegram-bot~=13.0 in /usr/local/lib/python3.8/dist-packages (from apache-airflow-providers-telegram->apache-airflow[telegram]==2.1.4) (13.7)\n",
            "Requirement already satisfied: sniffio in /usr/local/lib/python3.8/dist-packages (from httpx->apache-airflow[telegram]==2.1.4) (1.2.0)\n",
            "Requirement already satisfied: rfc3986[idna2008]<2,>=1.3 in /usr/local/lib/python3.8/dist-packages (from httpx->apache-airflow[telegram]==2.1.4) (1.5.0)\n",
            "Requirement already satisfied: charset-normalizer in /usr/local/lib/python3.8/dist-packages (from httpx->apache-airflow[telegram]==2.1.4) (2.0.5)\n",
            "Requirement already satisfied: certifi in /usr/local/lib/python3.8/dist-packages (from httpx->apache-airflow[telegram]==2.1.4) (2020.12.5)\n",
            "Requirement already satisfied: httpcore<0.14.0,>=0.13.3 in /usr/local/lib/python3.8/dist-packages (from httpx->apache-airflow[telegram]==2.1.4) (0.13.7)\n",
            "Requirement already satisfied: pycparser in /usr/local/lib/python3.8/dist-packages (from cffi>=1.12->cryptography>=0.9.3->apache-airflow[telegram]==2.1.4) (2.20)\n",
            "Requirement already satisfied: idna>=2.0.0 in /usr/local/lib/python3.8/dist-packages (from email-validator<2,>=1.0.5->flask-appbuilder<4.0.0,>=3.3.2->apache-airflow[telegram]==2.1.4) (3.2)\n",
            "Requirement already satisfied: dnspython>=1.15.0 in /usr/local/lib/python3.8/dist-packages (from email-validator<2,>=1.0.5->flask-appbuilder<4.0.0,>=3.3.2->apache-airflow[telegram]==2.1.4) (1.16.0)\n",
            "Requirement already satisfied: Babel>=2.3 in /usr/local/lib/python3.8/dist-packages (from Flask-Babel<2,>=1->flask-appbuilder<4.0.0,>=3.3.2->apache-airflow[telegram]==2.1.4) (2.9.1)\n",
            "Requirement already satisfied: h11<0.13,>=0.11 in /usr/local/lib/python3.8/dist-packages (from httpcore<0.14.0,>=0.13.3->httpx->apache-airflow[telegram]==2.1.4) (0.12.0)\n",
            "Requirement already satisfied: anyio==3.* in /usr/local/lib/python3.8/dist-packages (from httpcore<0.14.0,>=0.13.3->httpx->apache-airflow[telegram]==2.1.4) (3.3.1)\n",
            "Requirement already satisfied: cachetools==4.2.2 in /usr/local/lib/python3.8/dist-packages (from python-telegram-bot~=13.0->apache-airflow-providers-telegram->apache-airflow[telegram]==2.1.4) (4.2.2)\n",
            "Requirement already satisfied: tornado>=6.1 in /usr/local/lib/python3.8/dist-packages (from python-telegram-bot~=13.0->apache-airflow-providers-telegram->apache-airflow[telegram]==2.1.4) (6.1)\n",
            "Requirement already satisfied: APScheduler==3.6.3 in /usr/local/lib/python3.8/dist-packages (from python-telegram-bot~=13.0->apache-airflow-providers-telegram->apache-airflow[telegram]==2.1.4) (3.6.3)\n",
            "Requirement already satisfied: tzlocal>=1.2 in /usr/local/lib/python3.8/dist-packages (from APScheduler==3.6.3->python-telegram-bot~=13.0->apache-airflow-providers-telegram->apache-airflow[telegram]==2.1.4) (3.0)\n",
            "Requirement already satisfied: urllib3<1.27,>=1.21.1 in /usr/local/lib/python3.8/dist-packages (from requests>=2.26.0->apache-airflow-providers-http->apache-airflow[telegram]==2.1.4) (1.26.6)\n",
            "Requirement already satisfied: isodate in /usr/local/lib/python3.8/dist-packages (from openapi-schema-validator->openapi-spec-validator>=0.2.4->apache-airflow[telegram]==2.1.4) (0.6.0)\n",
            "Requirement already satisfied: backports.zoneinfo in /usr/local/lib/python3.8/dist-packages (from tzlocal>=1.2->APScheduler==3.6.3->python-telegram-bot~=13.0->apache-airflow-providers-telegram->apache-airflow[telegram]==2.1.4) (0.2.1)\n",
            "DB: sqlite:////root/airflow/airflow.db\n",
            "[\u001b[34m2023-02-26 20:56:31,390\u001b[0m] {\u001b[34mdb.py:\u001b[0m702} INFO\u001b[0m - Creating tables\u001b[0m\n",
            "INFO  [alembic.runtime.migration] Context impl SQLiteImpl.\n",
            "INFO  [alembic.runtime.migration] Will assume non-transactional DDL.\n",
            "WARNI [airflow.models.crypto] empty cryptography key - values will not be stored encrypted.\n",
            "WARNI [unusual_prefix_29f86b268ee2fc845f05f8c9939fae016b0c47cc_example_kubernetes_executor_config] Could not import DAGs in example_kubernetes_executor_config.py: No module named 'kubernetes'\n",
            "WARNI [unusual_prefix_29f86b268ee2fc845f05f8c9939fae016b0c47cc_example_kubernetes_executor_config] Install kubernetes dependencies with: pip install apache-airflow['cncf.kubernetes']\n",
            "Initialization done\n"
          ]
        }
      ]
    },
    {
      "cell_type": "code",
      "metadata": {
        "id": "Ri_LIxa4z08a",
        "colab": {
          "base_uri": "https://localhost:8080/"
        },
        "outputId": "68f6d40c-1f31-45fc-fbfb-260f0be4254f"
      },
      "source": [
        "# Создадим необходимые папки\n",
        "!mkdir /root/airflow/dags\n",
        "!touch /root/airflow/dags/dag.py"
      ],
      "execution_count": 2,
      "outputs": [
        {
          "output_type": "stream",
          "name": "stdout",
          "text": [
            "mkdir: cannot create directory ‘/root/airflow/dags’: File exists\n"
          ]
        }
      ]
    },
    {
      "cell_type": "code",
      "metadata": {
        "id": "Qx1Jfp2O0CBP"
      },
      "source": [
        "# Включим веб-сервер\n",
        "!airflow webserver -p 18273 -D"
      ],
      "execution_count": null,
      "outputs": []
    },
    {
      "cell_type": "code",
      "metadata": {
        "id": "6AicRo890Iyp",
        "colab": {
          "base_uri": "https://localhost:8080/"
        },
        "outputId": "1bfdf4cf-9925-411b-b87a-02a6bf2addcd"
      },
      "source": [
        "# Создадим пользователя Airflow\n",
        "!airflow users create \\\n",
        "          --username admin \\\n",
        "          --firstname admin \\\n",
        "          --lastname admin \\\n",
        "          --role Admin \\\n",
        "          --email admin@example.org \\\n",
        "          -p 12345"
      ],
      "execution_count": 4,
      "outputs": [
        {
          "output_type": "stream",
          "name": "stdout",
          "text": [
            "admin already exist in the db\n"
          ]
        }
      ]
    },
    {
      "cell_type": "code",
      "metadata": {
        "id": "kXlUN86A3m1o",
        "colab": {
          "base_uri": "https://localhost:8080/"
        },
        "outputId": "abd36de0-1eda-456d-ab08-bbbfb6c62c85"
      },
      "source": [
        "# Запуск шедулера\n",
        "!airflow scheduler -D"
      ],
      "execution_count": 5,
      "outputs": [
        {
          "output_type": "stream",
          "name": "stdout",
          "text": [
            "  ____________       _____________\n",
            " ____    |__( )_________  __/__  /________      __\n",
            "____  /| |_  /__  ___/_  /_ __  /_  __ \\_ | /| / /\n",
            "___  ___ |  / _  /   _  __/ _  / / /_/ /_ |/ |/ /\n",
            " _/_/  |_/_/  /_/    /_/    /_/  \\____/____/|__/\n"
          ]
        }
      ]
    },
    {
      "cell_type": "code",
      "metadata": {
        "id": "A7jJGmYR3nGP",
        "colab": {
          "base_uri": "https://localhost:8080/"
        },
        "outputId": "5367becd-4e06-4190-c93a-5b7c38ca2d99"
      },
      "source": [
        "# Последующие команды не имеют отношения к Airflow\n",
        "# Они нужни только для корректной работы веб морды\n",
        "# в среде Google Colab\n",
        "\n",
        "!pip install pyngrok\n",
        "!ngrok authtoken 2MBRgJ066swk4ThgvdLuWtytQAI_3WLNSDpTtkwHYi33C27nr # найти его можно https://dashboard.ngrok.com/get-started/setup \n",
        "\n",
        "# Эта команда просто отображет веб морду на другой адрес\n",
        "# Его вы можете найти https://dashboard.ngrok.com/cloud-edge/status\n",
        "# При каждом отключении ссылка будет меняться\n",
        "!nohup ngrok http -log=stdout 18273 > /dev/null &"
      ],
      "execution_count": 6,
      "outputs": [
        {
          "output_type": "stream",
          "name": "stdout",
          "text": [
            "Looking in indexes: https://pypi.org/simple, https://us-python.pkg.dev/colab-wheels/public/simple/\n",
            "Requirement already satisfied: pyngrok in /usr/local/lib/python3.8/dist-packages (5.2.1)\n",
            "Requirement already satisfied: PyYAML in /usr/local/lib/python3.8/dist-packages (from pyngrok) (5.4.1)\n",
            "Authtoken saved to configuration file: /root/.ngrok2/ngrok.yml\n",
            "nohup: redirecting stderr to stdout\n"
          ]
        }
      ]
    },
    {
      "cell_type": "markdown",
      "metadata": {
        "id": "6sbOlBAm4fUp"
      },
      "source": [
        "После запуска команды выше, перейдите по адресу в ngrok и подождите  пока появится DAG с именем dag"
      ]
    },
    {
      "cell_type": "code",
      "source": [
        "from airflow import DAG\n",
        "from datetime import timedelta\n",
        "from airflow.utils.dates import days_ago\n",
        "from airflow.operators.python import PythonOperator\n",
        "from airflow.providers.sqlite.operators.sqlite import SqliteOperator\n",
        "from datetime import datetime\n",
        "\n",
        "import pandas as pd\n",
        "import sqlite3\n",
        "import requests\n",
        "import io\n",
        "\n",
        "CONN = sqlite3.connect('/content/example.db')\n",
        "\n",
        "\n",
        "def extract_currency(date, **context):\n",
        "   url = f'https://api.exchangerate.host/timeseries?start_date={date}&end_date={date}&base=EUR&symbols=USD&format=csv'\n",
        "   data = pd.read_csv(url)\n",
        "   context['ti'].xcom_push(key='return_value', value=data['rate'].values[0])\n",
        "\n",
        "def extract_data(date, tmp_file, **context):\n",
        "  url = f'https://raw.githubusercontent.com/dm-novikov/stepik_airflow_course/main/data_new/{date}.csv'\n",
        "  pd.read_csv(url).to_csv(tmp_file, index=None)\n",
        "\n",
        "def insert_to_db(tmp_file, table_name, conn=CONN, **context):\n",
        "  data = pd.read_csv(tmp_file)\n",
        "  data.to_sql(table_name, conn, if_exists='append', index=False)\n",
        "\n",
        "# Создаем даг который создаст таблицу, запускаем один раз\n",
        "dag_create_table= DAG(\n",
        "    dag_id='dag_create_table',\n",
        "    schedule_interval='@once',\n",
        "    start_date=datetime(2022, 1, 26),\n",
        ")\n",
        "\n",
        "# Задача для создания таблицы в sqlite базе данных\n",
        "create_table_data = SqliteOperator(\n",
        "    task_id='create_table_data',\n",
        "    sql=\"\"\"CREATE TABLE join_data(\n",
        "      currency TEXT, \n",
        "      value INTEGER, \n",
        "      date DATE, \n",
        "      rate FLOAT\n",
        "      )\n",
        "    \"\"\",\n",
        "    dag=dag_create_table,\n",
        ")\n",
        "\n",
        "\n",
        "with DAG(dag_id='dag',\n",
        "         start_date=datetime(2021, 1, 1),\n",
        "         end_date=datetime(2021, 1, 4), \n",
        "         max_active_runs=1\n",
        "    ) as dag:\n",
        "\n",
        "  extract_currency = PythonOperator(\n",
        "      task_id='extract_currency',\n",
        "      python_callable=extract_currency,\n",
        "      op_kwargs={\n",
        "          'date': '{{ ds }}'\n",
        "          }\n",
        "  )\n",
        "\n",
        "  extract_data = PythonOperator(\n",
        "      task_id='extract_data',\n",
        "      python_callable=extract_data,\n",
        "      op_kwargs={\n",
        "          'date': '{{ ds }}',\n",
        "          'tmp_file': '/tmp/extract_data.csv'}\n",
        "  )\n",
        "\n",
        "\n",
        "\n",
        "  insert_data_to_db = PythonOperator(\n",
        "      task_id='insert_data_to_db',\n",
        "      python_callable=insert_to_db,\n",
        "      op_kwargs={\n",
        "          'table_name': 'data',\n",
        "          'tmp_file': '/tmp/extract_data.csv'}\n",
        "  )\n",
        "\n",
        "\n",
        "  join_data= SqliteOperator(\n",
        "    task_id='join_data',\n",
        "    sql=\"\"\"\n",
        "    INSERT INTO join_data \n",
        "    SELECT date, currency, '{{ ti.xcom_pull(key='return_value') }}' as rate, value\n",
        "    FROM data\n",
        "    JOIN (select max(date) max_date from data) mx on data.date = mx.max_date\n",
        "    WHERE currency = 'EUR'\n",
        "    \"\"\"\n",
        "  )\n",
        "\n",
        "   \n",
        "  extract_data >> insert_data_to_db\n",
        "  [extract_currency, insert_data_to_db] >> join_data"
      ],
      "metadata": {
        "colab": {
          "base_uri": "https://localhost:8080/"
        },
        "id": "GqvdCmlfbPky",
        "outputId": "7e135e84-df45-48d3-d3eb-737d24f70709"
      },
      "execution_count": 7,
      "outputs": [
        {
          "output_type": "stream",
          "name": "stdout",
          "text": [
            "[\u001b[34m2023-02-26 20:57:13,710\u001b[0m] {\u001b[34mutils.py:\u001b[0m160} INFO\u001b[0m - NumExpr defaulting to 2 threads.\u001b[0m\n"
          ]
        }
      ]
    },
    {
      "cell_type": "code",
      "source": [
        "# чтобы првоерить решение можете обратиться к вашей базе данных таким образом\n",
        "%load_ext sql\n",
        "%config SqlMagic.feedback=False \n",
        "%config SqlMagic.autopandas=True\n",
        "%sql sqlite:////content/example.db\n",
        "%sql select * from join_data"
      ],
      "metadata": {
        "id": "WIpXhkYvtQKT",
        "colab": {
          "base_uri": "https://localhost:8080/"
        },
        "outputId": "075c16ee-16a2-4a99-e8bf-315e1d275f8f"
      },
      "execution_count": 15,
      "outputs": [
        {
          "output_type": "stream",
          "name": "stdout",
          "text": [
            "The sql extension is already loaded. To reload it, use:\n",
            "  %reload_ext sql\n",
            " * sqlite:////content/example.db\n",
            "(sqlite3.OperationalError) no such table: join_data\n",
            "[SQL: select * from join_data]\n",
            "(Background on this error at: http://sqlalche.me/e/13/e3q8)\n"
          ]
        }
      ]
    },
    {
      "cell_type": "markdown",
      "metadata": {
        "id": "2nHwpj2ikn7r"
      },
      "source": [
        "Даг нужно написать в файл /root/airflow/dags/dag.py. Проверку можно сделать в веб интерфейсе. Прежде чем даг появится, может пройти ~ 2-3 минут."
      ]
    }
  ]
}