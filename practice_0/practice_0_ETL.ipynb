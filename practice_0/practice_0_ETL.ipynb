{
 "cells": [
  {
   "attachments": {},
   "cell_type": "markdown",
   "metadata": {},
   "source": [
    "## Task 1\n",
    "\n",
    "Выгружать ежедневно данные из внешнего источника и предоставлять статистку по выручке в доступных разрезах. Отчет должен приходить в 10 утра на почту всей команды. А данные сохраняться в локальной базе данных."
   ]
  },
  {
   "cell_type": "code",
   "execution_count": 8,
   "metadata": {},
   "outputs": [],
   "source": [
    "import pandas as pd\n",
    "from email.mime.text import MIMEText\n",
    "from email.mime.multipart import MIMEMultipart\n",
    "import smtplib\n",
    "import sqlite3\n",
    "\n",
    "CON = sqlite3.connect('example.db')\n",
    "\n",
    "HOST = \"smtp.yandex.ru\"\n",
    "TO = \"stepikairflowcourse@yandex.ru\"\n",
    "FROM = \"stepikairflowcourse@yandex.ru\"\n",
    "\n",
    "def html_pretty(df):\n",
    "    \"\"\" Pretty html dataframe\n",
    "    \"\"\"\n",
    "    return \"\"\"\\\n",
    "    <html>\n",
    "      <head></head>\n",
    "      <body>\n",
    "        {0}\n",
    "      </body>\n",
    "    </html>\n",
    "    \"\"\".format(df.to_html())\n",
    "\n",
    "def _send_email(data, cred, host, port, to, From):\n",
    "    \"\"\" Send DF to email\n",
    "    \"\"\"\n",
    "\n",
    "    msg = MIMEMultipart()\n",
    "    part = MIMEText(html_pretty(data), 'html')\n",
    "    msg.attach(part)\n",
    "\n",
    "    server = smtplib.SMTP(host, port)\n",
    "    server.starttls()\n",
    "    server.login(cred[0], cred[1])\n",
    "    server.sendmail(From, to, msg.as_string())\n",
    "    server.quit()"
   ]
  },
  {
   "cell_type": "code",
   "execution_count": 9,
   "metadata": {},
   "outputs": [],
   "source": [
    "# Выгрузка данных с сайта\n",
    "def extract_data(url):\n",
    "    \"\"\" Extract CSV\n",
    "    \"\"\"\n",
    "    return pd.read_csv(url)\n",
    "\n",
    "# Группировка данных\n",
    "def transform_data(data, group, agreg):\n",
    "    \"\"\" Group by data\n",
    "    \"\"\"\n",
    "    return data.groupby(group).agg(agreg).reset_index()\n",
    "\n",
    "# Загрузка в базу данных\n",
    "# Для тех кто не работал с pandas+sqlite\n",
    "# data_frame.to_sql(...) автоматически создаст sqlite базу данных\n",
    "def load_data(data, table_name, conn=CON):\n",
    "    \"\"\" Load to DB\n",
    "    \"\"\"\n",
    "    data[\"insert_time\"] = pd.to_datetime(\"now\")\n",
    "    data.to_sql(table_name, conn, if_exists='replace', index=False)\n",
    "\n",
    "# Отправка данных на почту\n",
    "def send_email(data, cred, host, port, to, From):\n",
    "    \"\"\" Send to email\n",
    "    \"\"\" \n",
    "    _send_email(data=data, cred=cred, host=host, to=to, From=From, port=port)"
   ]
  },
  {
   "cell_type": "code",
   "execution_count": 11,
   "metadata": {},
   "outputs": [
    {
     "name": "stderr",
     "output_type": "stream",
     "text": [
      "d:\\Users\\cait\\anaconda3\\lib\\site-packages\\pandas\\core\\arrays\\datetimes.py:2224: FutureWarning: The parsing of 'now' in pd.to_datetime without `utc=True` is deprecated. In a future version, this will match Timestamp('now') and Timestamp.now()\n",
      "  result, tz_parsed = tslib.array_to_datetime(\n"
     ]
    }
   ],
   "source": [
    "# Extract\n",
    "data = extract_data(\n",
    "    \"https://raw.githubusercontent.com/dm-novikov/stepik_airflow_course/main/data/data.csv\")\n",
    "\n",
    "# Transform\n",
    "data = transform_data(data,\n",
    "                      group=['A', 'B', 'C'],\n",
    "                      agreg={\"D\": sum})\n",
    "\n",
    "# Load to DB\n",
    "load_data(data, \"table\")\n",
    "\n",
    "# Send Email\n",
    "send_email(data, cred=(\"stepikairflowcourse\", \"123456aA-\"), host=HOST, port=587, to=TO, From=FROM)"
   ]
  },
  {
   "cell_type": "code",
   "execution_count": null,
   "metadata": {},
   "outputs": [],
   "source": []
  }
 ],
 "metadata": {
  "kernelspec": {
   "display_name": "base",
   "language": "python",
   "name": "python3"
  },
  "language_info": {
   "codemirror_mode": {
    "name": "ipython",
    "version": 3
   },
   "file_extension": ".py",
   "mimetype": "text/x-python",
   "name": "python",
   "nbconvert_exporter": "python",
   "pygments_lexer": "ipython3",
   "version": "3.9.13"
  },
  "orig_nbformat": 4,
  "vscode": {
   "interpreter": {
    "hash": "ee0385ac6bef9f890dd07ca4a045ad946ff1e674e3fecc7b7faf2f57cd5e4e6e"
   }
  }
 },
 "nbformat": 4,
 "nbformat_minor": 2
}
