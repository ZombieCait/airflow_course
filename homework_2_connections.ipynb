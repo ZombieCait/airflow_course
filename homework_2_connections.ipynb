{
  "nbformat": 4,
  "nbformat_minor": 0,
  "metadata": {
    "colab": {
      "provenance": [],
      "collapsed_sections": [
        "yah1mva1eYMK"
      ]
    },
    "kernelspec": {
      "name": "python3",
      "display_name": "Python 3"
    },
    "language_info": {
      "name": "python"
    }
  },
  "cells": [
    {
      "cell_type": "markdown",
      "metadata": {
        "id": "Z0I-IEE0ohyt"
      },
      "source": [
        "### Настройка Airflow\n",
        "\n",
        "Для начала вам необходимо выполнить ряд команд чтобы настроить окружение для дальнейшей работы, это позволит первое время не заниматься настройкой среды исполнения, а сразу начать писать код и работать с Airflow."
      ]
    },
    {
      "cell_type": "code",
      "metadata": {
        "id": "0unBvZMyx5H-",
        "outputId": "d37873d8-6510-45f0-b75d-28d1a83f41e6",
        "colab": {
          "base_uri": "https://localhost:8080/"
        }
      },
      "source": [
        "# Установка Airflow\n",
        "!pip install apache-airflow==2.1.4\n",
        "!pip install wtforms==2.3.3\n",
        "\n",
        "# Инициализация базы данных\n",
        "!airflow db init"
      ],
      "execution_count": 1,
      "outputs": [
        {
          "output_type": "stream",
          "name": "stdout",
          "text": [
            "Looking in indexes: https://pypi.org/simple, https://us-python.pkg.dev/colab-wheels/public/simple/\n",
            "Collecting apache-airflow==2.1.4\n",
            "  Downloading apache_airflow-2.1.4-py3-none-any.whl (5.3 MB)\n",
            "\u001b[2K     \u001b[90m━━━━━━━━━━━━━━━━━━━━━━━━━━━━━━━━━━━━━━━━\u001b[0m \u001b[32m5.3/5.3 MB\u001b[0m \u001b[31m21.2 MB/s\u001b[0m eta \u001b[36m0:00:00\u001b[0m\n",
            "\u001b[?25hCollecting gunicorn>=19.5.0\n",
            "  Downloading gunicorn-20.1.0-py3-none-any.whl (79 kB)\n",
            "\u001b[2K     \u001b[90m━━━━━━━━━━━━━━━━━━━━━━━━━━━━━━━━━━━━━━━━\u001b[0m \u001b[32m79.5/79.5 KB\u001b[0m \u001b[31m5.8 MB/s\u001b[0m eta \u001b[36m0:00:00\u001b[0m\n",
            "\u001b[?25hRequirement already satisfied: termcolor>=1.1.0 in /usr/local/lib/python3.8/dist-packages (from apache-airflow==2.1.4) (2.2.0)\n",
            "Requirement already satisfied: numpy in /usr/local/lib/python3.8/dist-packages (from apache-airflow==2.1.4) (1.22.4)\n",
            "Collecting tenacity~=6.2.0\n",
            "  Downloading tenacity-6.2.0-py2.py3-none-any.whl (24 kB)\n",
            "Requirement already satisfied: pygments<3.0,>=2.0.1 in /usr/local/lib/python3.8/dist-packages (from apache-airflow==2.1.4) (2.6.1)\n",
            "Requirement already satisfied: importlib-metadata>=1.7 in /usr/local/lib/python3.8/dist-packages (from apache-airflow==2.1.4) (6.0.0)\n",
            "Collecting colorlog<6.0,>=4.0.2\n",
            "  Downloading colorlog-5.0.1-py2.py3-none-any.whl (10 kB)\n",
            "Collecting unicodecsv>=0.14.1\n",
            "  Downloading unicodecsv-0.14.1.tar.gz (10 kB)\n",
            "  Preparing metadata (setup.py) ... \u001b[?25l\u001b[?25hdone\n",
            "Collecting apache-airflow-providers-http\n",
            "  Downloading apache_airflow_providers_http-4.2.0-py3-none-any.whl (22 kB)\n",
            "Requirement already satisfied: tabulate<0.9,>=0.7.5 in /usr/local/lib/python3.8/dist-packages (from apache-airflow==2.1.4) (0.8.10)\n",
            "Collecting marshmallow-oneofschema>=2.0.1\n",
            "  Downloading marshmallow_oneofschema-3.0.1-py2.py3-none-any.whl (5.8 kB)\n",
            "Requirement already satisfied: werkzeug>=1.0.1,~=1.0 in /usr/local/lib/python3.8/dist-packages (from apache-airflow==2.1.4) (1.0.1)\n",
            "Collecting httpx\n",
            "  Downloading httpx-0.23.3-py3-none-any.whl (71 kB)\n",
            "\u001b[2K     \u001b[90m━━━━━━━━━━━━━━━━━━━━━━━━━━━━━━━━━━━━━━━━\u001b[0m \u001b[32m71.5/71.5 KB\u001b[0m \u001b[31m2.7 MB/s\u001b[0m eta \u001b[36m0:00:00\u001b[0m\n",
            "\u001b[?25hCollecting flask-login<0.5,>=0.3\n",
            "  Downloading Flask-Login-0.4.1.tar.gz (14 kB)\n",
            "  Preparing metadata (setup.py) ... \u001b[?25l\u001b[?25hdone\n",
            "Collecting markupsafe<2.0,>=1.1.1\n",
            "  Downloading MarkupSafe-1.1.1-cp38-cp38-manylinux2010_x86_64.whl (32 kB)\n",
            "Collecting sqlalchemy-jsonfield~=1.0\n",
            "  Downloading SQLAlchemy_JSONField-1.0.1.post0-py3-none-any.whl (10 kB)\n",
            "Collecting pendulum~=2.0\n",
            "  Downloading pendulum-2.1.2-cp38-cp38-manylinux1_x86_64.whl (155 kB)\n",
            "\u001b[2K     \u001b[90m━━━━━━━━━━━━━━━━━━━━━━━━━━━━━━━━━━━━━━\u001b[0m \u001b[32m155.7/155.7 KB\u001b[0m \u001b[31m10.6 MB/s\u001b[0m eta \u001b[36m0:00:00\u001b[0m\n",
            "\u001b[?25hCollecting python3-openid~=3.2\n",
            "  Downloading python3_openid-3.2.0-py3-none-any.whl (133 kB)\n",
            "\u001b[2K     \u001b[90m━━━━━━━━━━━━━━━━━━━━━━━━━━━━━━━━━━━━━━━\u001b[0m \u001b[32m133.7/133.7 KB\u001b[0m \u001b[31m9.2 MB/s\u001b[0m eta \u001b[36m0:00:00\u001b[0m\n",
            "\u001b[?25hRequirement already satisfied: docutils<0.17 in /usr/local/lib/python3.8/dist-packages (from apache-airflow==2.1.4) (0.16)\n",
            "Collecting swagger-ui-bundle>=0.0.2\n",
            "  Downloading swagger_ui_bundle-0.0.9-py3-none-any.whl (6.2 MB)\n",
            "\u001b[2K     \u001b[90m━━━━━━━━━━━━━━━━━━━━━━━━━━━━━━━━━━━━━━━━\u001b[0m \u001b[32m6.2/6.2 MB\u001b[0m \u001b[31m48.1 MB/s\u001b[0m eta \u001b[36m0:00:00\u001b[0m\n",
            "\u001b[?25hCollecting python-slugify<5.0,>=3.0.0\n",
            "  Downloading python-slugify-4.0.1.tar.gz (11 kB)\n",
            "  Preparing metadata (setup.py) ... \u001b[?25l\u001b[?25hdone\n",
            "Collecting apache-airflow-providers-ftp\n",
            "  Downloading apache_airflow_providers_ftp-3.3.1-py3-none-any.whl (19 kB)\n",
            "Collecting flask-wtf<0.15,>=0.14.3\n",
            "  Downloading Flask_WTF-0.14.3-py2.py3-none-any.whl (13 kB)\n",
            "Collecting python-nvd3~=0.15.0\n",
            "  Downloading python-nvd3-0.15.0.tar.gz (31 kB)\n",
            "  Preparing metadata (setup.py) ... \u001b[?25l\u001b[?25hdone\n",
            "Collecting inflection>=0.3.1\n",
            "  Downloading inflection-0.5.1-py2.py3-none-any.whl (9.5 kB)\n",
            "Requirement already satisfied: psutil<6.0.0,>=4.2.0 in /usr/local/lib/python3.8/dist-packages (from apache-airflow==2.1.4) (5.4.8)\n",
            "Requirement already satisfied: pyyaml>=5.1 in /usr/local/lib/python3.8/dist-packages (from apache-airflow==2.1.4) (6.0)\n",
            "Collecting lazy-object-proxy\n",
            "  Downloading lazy_object_proxy-1.9.0-cp38-cp38-manylinux_2_5_x86_64.manylinux1_x86_64.manylinux_2_17_x86_64.manylinux2014_x86_64.whl (61 kB)\n",
            "\u001b[2K     \u001b[90m━━━━━━━━━━━━━━━━━━━━━━━━━━━━━━━━━━━━━━━━\u001b[0m \u001b[32m61.4/61.4 KB\u001b[0m \u001b[31m3.5 MB/s\u001b[0m eta \u001b[36m0:00:00\u001b[0m\n",
            "\u001b[?25hCollecting apache-airflow-providers-imap\n",
            "  Downloading apache_airflow_providers_imap-3.1.1-py3-none-any.whl (17 kB)\n",
            "Collecting flask-caching<2.0.0,>=1.5.0\n",
            "  Downloading Flask_Caching-1.11.1-py3-none-any.whl (29 kB)\n",
            "Collecting iso8601>=0.1.12\n",
            "  Downloading iso8601-1.1.0-py3-none-any.whl (9.9 kB)\n",
            "Requirement already satisfied: markdown<4.0,>=2.5.2 in /usr/local/lib/python3.8/dist-packages (from apache-airflow==2.1.4) (3.4.1)\n",
            "Collecting cryptography>=0.9.3\n",
            "  Downloading cryptography-39.0.1-cp36-abi3-manylinux_2_28_x86_64.whl (4.2 MB)\n",
            "\u001b[2K     \u001b[90m━━━━━━━━━━━━━━━━━━━━━━━━━━━━━━━━━━━━━━━━\u001b[0m \u001b[32m4.2/4.2 MB\u001b[0m \u001b[31m36.6 MB/s\u001b[0m eta \u001b[36m0:00:00\u001b[0m\n",
            "\u001b[?25hRequirement already satisfied: itsdangerous<2.0,>=1.1.0 in /usr/local/lib/python3.8/dist-packages (from apache-airflow==2.1.4) (1.1.0)\n",
            "Collecting argcomplete~=1.10\n",
            "  Downloading argcomplete-1.12.3-py2.py3-none-any.whl (38 kB)\n",
            "Collecting python-daemon>=2.2.4\n",
            "  Downloading python_daemon-2.3.2-py3-none-any.whl (34 kB)\n",
            "Collecting rich>=9.2.0\n",
            "  Downloading rich-13.3.1-py3-none-any.whl (239 kB)\n",
            "\u001b[2K     \u001b[90m━━━━━━━━━━━━━━━━━━━━━━━━━━━━━━━━━━━━━━\u001b[0m \u001b[32m239.0/239.0 KB\u001b[0m \u001b[31m12.7 MB/s\u001b[0m eta \u001b[36m0:00:00\u001b[0m\n",
            "\u001b[?25hCollecting importlib-resources~=1.4\n",
            "  Downloading importlib_resources-1.5.0-py2.py3-none-any.whl (21 kB)\n",
            "Collecting graphviz>=0.12\n",
            "  Downloading graphviz-0.20.1-py3-none-any.whl (47 kB)\n",
            "\u001b[2K     \u001b[90m━━━━━━━━━━━━━━━━━━━━━━━━━━━━━━━━━━━━━━━━\u001b[0m \u001b[32m47.0/47.0 KB\u001b[0m \u001b[31m3.2 MB/s\u001b[0m eta \u001b[36m0:00:00\u001b[0m\n",
            "\u001b[?25hCollecting openapi-spec-validator>=0.2.4\n",
            "  Downloading openapi_spec_validator-0.5.5-py3-none-any.whl (32 kB)\n",
            "Collecting setproctitle<2,>=1.1.8\n",
            "  Downloading setproctitle-1.3.2-cp38-cp38-manylinux_2_5_x86_64.manylinux1_x86_64.manylinux_2_17_x86_64.manylinux2014_x86_64.whl (31 kB)\n",
            "Collecting cattrs<1.7.0,~=1.1\n",
            "  Downloading cattrs-1.5.0-py3-none-any.whl (19 kB)\n",
            "Collecting lockfile>=0.12.2\n",
            "  Downloading lockfile-0.12.2-py2.py3-none-any.whl (13 kB)\n",
            "Collecting flask-appbuilder<4.0.0,>=3.3.2\n",
            "  Downloading Flask_AppBuilder-3.4.5-py3-none-any.whl (1.9 MB)\n",
            "\u001b[2K     \u001b[90m━━━━━━━━━━━━━━━━━━━━━━━━━━━━━━━━━━━━━━━━\u001b[0m \u001b[32m1.9/1.9 MB\u001b[0m \u001b[31m53.5 MB/s\u001b[0m eta \u001b[36m0:00:00\u001b[0m\n",
            "\u001b[?25hRequirement already satisfied: jinja2<4,>=2.10.1 in /usr/local/lib/python3.8/dist-packages (from apache-airflow==2.1.4) (2.11.3)\n",
            "Collecting blinker\n",
            "  Downloading blinker-1.5-py2.py3-none-any.whl (12 kB)\n",
            "Requirement already satisfied: flask<2.0,>=1.1.0 in /usr/local/lib/python3.8/dist-packages (from apache-airflow==2.1.4) (1.1.4)\n",
            "Collecting jsonschema~=3.0\n",
            "  Downloading jsonschema-3.2.0-py2.py3-none-any.whl (56 kB)\n",
            "\u001b[2K     \u001b[90m━━━━━━━━━━━━━━━━━━━━━━━━━━━━━━━━━━━━━━━━\u001b[0m \u001b[32m56.3/56.3 KB\u001b[0m \u001b[31m4.6 MB/s\u001b[0m eta \u001b[36m0:00:00\u001b[0m\n",
            "\u001b[?25hRequirement already satisfied: dill<0.4,>=0.2.2 in /usr/local/lib/python3.8/dist-packages (from apache-airflow==2.1.4) (0.3.6)\n",
            "Requirement already satisfied: pandas<2.0,>=0.17.1 in /usr/local/lib/python3.8/dist-packages (from apache-airflow==2.1.4) (1.3.5)\n",
            "Collecting croniter<1.1,>=0.3.17\n",
            "  Downloading croniter-1.0.15-py2.py3-none-any.whl (16 kB)\n",
            "Collecting attrs<21.0,>=20.0\n",
            "  Downloading attrs-20.3.0-py2.py3-none-any.whl (49 kB)\n",
            "\u001b[2K     \u001b[90m━━━━━━━━━━━━━━━━━━━━━━━━━━━━━━━━━━━━━━━━\u001b[0m \u001b[32m49.3/49.3 KB\u001b[0m \u001b[31m3.1 MB/s\u001b[0m eta \u001b[36m0:00:00\u001b[0m\n",
            "\u001b[?25hRequirement already satisfied: sqlalchemy>=1.3.18 in /usr/local/lib/python3.8/dist-packages (from apache-airflow==2.1.4) (1.4.46)\n",
            "Collecting pyjwt<2\n",
            "  Downloading PyJWT-1.7.1-py2.py3-none-any.whl (18 kB)\n",
            "Collecting apache-airflow-providers-sqlite\n",
            "  Downloading apache_airflow_providers_sqlite-3.3.1-py3-none-any.whl (14 kB)\n",
            "Requirement already satisfied: python-dateutil<3,>=2.3 in /usr/local/lib/python3.8/dist-packages (from apache-airflow==2.1.4) (2.8.2)\n",
            "Collecting clickclick>=1.2\n",
            "  Downloading clickclick-20.10.2-py2.py3-none-any.whl (7.4 kB)\n",
            "Collecting alembic<2.0,>=1.2\n",
            "  Downloading alembic-1.9.4-py3-none-any.whl (210 kB)\n",
            "\u001b[2K     \u001b[90m━━━━━━━━━━━━━━━━━━━━━━━━━━━━━━━━━━━━━━\u001b[0m \u001b[32m210.5/210.5 KB\u001b[0m \u001b[31m13.5 MB/s\u001b[0m eta \u001b[36m0:00:00\u001b[0m\n",
            "\u001b[?25hCollecting Mako\n",
            "  Downloading Mako-1.2.4-py3-none-any.whl (78 kB)\n",
            "\u001b[2K     \u001b[90m━━━━━━━━━━━━━━━━━━━━━━━━━━━━━━━━━━━━━━━━\u001b[0m \u001b[32m78.7/78.7 KB\u001b[0m \u001b[31m5.6 MB/s\u001b[0m eta \u001b[36m0:00:00\u001b[0m\n",
            "\u001b[?25hRequirement already satisfied: click>=4.0 in /usr/local/lib/python3.8/dist-packages (from clickclick>=1.2->apache-airflow==2.1.4) (7.1.2)\n",
            "Requirement already satisfied: cffi>=1.12 in /usr/local/lib/python3.8/dist-packages (from cryptography>=0.9.3->apache-airflow==2.1.4) (1.15.1)\n",
            "Collecting marshmallow-sqlalchemy<0.27.0,>=0.22.0\n",
            "  Downloading marshmallow_sqlalchemy-0.26.1-py2.py3-none-any.whl (15 kB)\n",
            "Collecting Flask-Babel<3,>=1\n",
            "  Downloading Flask_Babel-2.0.0-py3-none-any.whl (9.3 kB)\n",
            "Collecting prison<1.0.0,>=0.2.1\n",
            "  Downloading prison-0.2.1-py2.py3-none-any.whl (5.8 kB)\n",
            "Collecting sqlalchemy-utils<1,>=0.32.21\n",
            "  Downloading SQLAlchemy_Utils-0.40.0-py3-none-any.whl (92 kB)\n",
            "\u001b[2K     \u001b[90m━━━━━━━━━━━━━━━━━━━━━━━━━━━━━━━━━━━━━━━━\u001b[0m \u001b[32m92.5/92.5 KB\u001b[0m \u001b[31m6.7 MB/s\u001b[0m eta \u001b[36m0:00:00\u001b[0m\n",
            "\u001b[?25hCollecting email-validator<2,>=1.0.5\n",
            "  Downloading email_validator-1.3.1-py2.py3-none-any.whl (22 kB)\n",
            "Requirement already satisfied: marshmallow<4,>=3 in /usr/local/lib/python3.8/dist-packages (from flask-appbuilder<4.0.0,>=3.3.2->apache-airflow==2.1.4) (3.19.0)\n",
            "Collecting Flask-OpenID<2,>=1.2.5\n",
            "  Downloading Flask_OpenID-1.3.0-py3-none-any.whl (9.3 kB)\n",
            "Collecting Flask-SQLAlchemy<3,>=2.4\n",
            "  Downloading Flask_SQLAlchemy-2.5.1-py2.py3-none-any.whl (17 kB)\n",
            "Collecting Flask-JWT-Extended<4,>=3.18\n",
            "  Downloading Flask-JWT-Extended-3.25.1.tar.gz (32 kB)\n",
            "  Preparing metadata (setup.py) ... \u001b[?25l\u001b[?25hdone\n",
            "Collecting marshmallow-enum<2,>=1.5.1\n",
            "  Downloading marshmallow_enum-1.5.1-py2.py3-none-any.whl (4.2 kB)\n",
            "Collecting apispec[yaml]<4,>=3.3\n",
            "  Downloading apispec-3.3.2-py2.py3-none-any.whl (27 kB)\n",
            "Collecting colorama<1,>=0.3.9\n",
            "  Downloading colorama-0.4.6-py2.py3-none-any.whl (25 kB)\n",
            "Collecting WTForms<3.0.0\n",
            "  Downloading WTForms-2.3.3-py2.py3-none-any.whl (169 kB)\n",
            "\u001b[2K     \u001b[90m━━━━━━━━━━━━━━━━━━━━━━━━━━━━━━━━━━━━━━━\u001b[0m \u001b[32m169.1/169.1 KB\u001b[0m \u001b[31m7.6 MB/s\u001b[0m eta \u001b[36m0:00:00\u001b[0m\n",
            "\u001b[?25hCollecting cachelib\n",
            "  Downloading cachelib-0.10.2-py3-none-any.whl (18 kB)\n",
            "Requirement already satisfied: setuptools>=3.0 in /usr/local/lib/python3.8/dist-packages (from gunicorn>=19.5.0->apache-airflow==2.1.4) (57.4.0)\n",
            "Requirement already satisfied: zipp>=0.5 in /usr/local/lib/python3.8/dist-packages (from importlib-metadata>=1.7->apache-airflow==2.1.4) (3.14.0)\n",
            "Requirement already satisfied: six>=1.11.0 in /usr/local/lib/python3.8/dist-packages (from jsonschema~=3.0->apache-airflow==2.1.4) (1.15.0)\n",
            "Requirement already satisfied: pyrsistent>=0.14.0 in /usr/local/lib/python3.8/dist-packages (from jsonschema~=3.0->apache-airflow==2.1.4) (0.19.3)\n",
            "Collecting openapi-spec-validator>=0.2.4\n",
            "  Downloading openapi_spec_validator-0.5.4-py3-none-any.whl (32 kB)\n",
            "  Downloading openapi_spec_validator-0.5.3-py3-none-any.whl (32 kB)\n",
            "  Downloading openapi_spec_validator-0.5.2-py3-none-any.whl (31 kB)\n",
            "  Downloading openapi_spec_validator-0.5.1-py3-none-any.whl (31 kB)\n",
            "  Downloading openapi_spec_validator-0.5.0-py3-none-any.whl (31 kB)\n",
            "  Downloading openapi_spec_validator-0.4.0-py3-none-any.whl (31 kB)\n",
            "Collecting openapi-schema-validator<0.3.0,>=0.2.0\n",
            "  Downloading openapi_schema_validator-0.2.3-py3-none-any.whl (8.3 kB)\n",
            "Requirement already satisfied: pytz>=2017.3 in /usr/local/lib/python3.8/dist-packages (from pandas<2.0,>=0.17.1->apache-airflow==2.1.4) (2022.7.1)\n",
            "Collecting pytzdata>=2020.1\n",
            "  Downloading pytzdata-2020.1-py2.py3-none-any.whl (489 kB)\n",
            "\u001b[2K     \u001b[90m━━━━━━━━━━━━━━━━━━━━━━━━━━━━━━━━━━━━━━\u001b[0m \u001b[32m490.0/490.0 KB\u001b[0m \u001b[31m23.9 MB/s\u001b[0m eta \u001b[36m0:00:00\u001b[0m\n",
            "\u001b[?25hRequirement already satisfied: text-unidecode>=1.3 in /usr/local/lib/python3.8/dist-packages (from python-slugify<5.0,>=3.0.0->apache-airflow==2.1.4) (1.3)\n",
            "Requirement already satisfied: defusedxml in /usr/local/lib/python3.8/dist-packages (from python3-openid~=3.2->apache-airflow==2.1.4) (0.7.1)\n",
            "Requirement already satisfied: typing-extensions<5.0,>=4.0.0 in /usr/local/lib/python3.8/dist-packages (from rich>=9.2.0->apache-airflow==2.1.4) (4.5.0)\n",
            "Collecting pygments<3.0,>=2.0.1\n",
            "  Downloading Pygments-2.14.0-py3-none-any.whl (1.1 MB)\n",
            "\u001b[2K     \u001b[90m━━━━━━━━━━━━━━━━━━━━━━━━━━━━━━━━━━━━━━━━\u001b[0m \u001b[32m1.1/1.1 MB\u001b[0m \u001b[31m42.2 MB/s\u001b[0m eta \u001b[36m0:00:00\u001b[0m\n",
            "\u001b[?25hCollecting markdown-it-py<3.0.0,>=2.1.0\n",
            "  Downloading markdown_it_py-2.2.0-py3-none-any.whl (84 kB)\n",
            "\u001b[2K     \u001b[90m━━━━━━━━━━━━━━━━━━━━━━━━━━━━━━━━━━━━━━━━\u001b[0m \u001b[32m84.5/84.5 KB\u001b[0m \u001b[31m4.5 MB/s\u001b[0m eta \u001b[36m0:00:00\u001b[0m\n",
            "\u001b[?25hRequirement already satisfied: greenlet!=0.4.17 in /usr/local/lib/python3.8/dist-packages (from sqlalchemy>=1.3.18->apache-airflow==2.1.4) (2.0.2)\n",
            "Collecting requests>=2.26.0\n",
            "  Downloading requests-2.28.2-py3-none-any.whl (62 kB)\n",
            "\u001b[2K     \u001b[90m━━━━━━━━━━━━━━━━━━━━━━━━━━━━━━━━━━━━━━━━\u001b[0m \u001b[32m62.8/62.8 KB\u001b[0m \u001b[31m5.2 MB/s\u001b[0m eta \u001b[36m0:00:00\u001b[0m\n",
            "\u001b[?25hCollecting asgiref\n",
            "  Downloading asgiref-3.6.0-py3-none-any.whl (23 kB)\n",
            "Collecting requests-toolbelt\n",
            "  Downloading requests_toolbelt-0.10.1-py2.py3-none-any.whl (54 kB)\n",
            "\u001b[2K     \u001b[90m━━━━━━━━━━━━━━━━━━━━━━━━━━━━━━━━━━━━━━━━\u001b[0m \u001b[32m54.5/54.5 KB\u001b[0m \u001b[31m5.9 MB/s\u001b[0m eta \u001b[36m0:00:00\u001b[0m\n",
            "\u001b[?25hRequirement already satisfied: aiohttp in /usr/local/lib/python3.8/dist-packages (from apache-airflow-providers-http->apache-airflow==2.1.4) (3.8.4)\n",
            "Collecting apache-airflow-providers-common-sql>=1.3.1\n",
            "  Downloading apache_airflow_providers_common_sql-1.3.3-py3-none-any.whl (31 kB)\n",
            "Collecting sniffio\n",
            "  Downloading sniffio-1.3.0-py3-none-any.whl (10 kB)\n",
            "Collecting httpcore<0.17.0,>=0.15.0\n",
            "  Downloading httpcore-0.16.3-py3-none-any.whl (69 kB)\n",
            "\u001b[2K     \u001b[90m━━━━━━━━━━━━━━━━━━━━━━━━━━━━━━━━━━━━━━━━\u001b[0m \u001b[32m69.6/69.6 KB\u001b[0m \u001b[31m7.6 MB/s\u001b[0m eta \u001b[36m0:00:00\u001b[0m\n",
            "\u001b[?25hCollecting rfc3986[idna2008]<2,>=1.3\n",
            "  Downloading rfc3986-1.5.0-py2.py3-none-any.whl (31 kB)\n",
            "Requirement already satisfied: certifi in /usr/local/lib/python3.8/dist-packages (from httpx->apache-airflow==2.1.4) (2022.12.7)\n",
            "Requirement already satisfied: sqlparse>=0.4.2 in /usr/local/lib/python3.8/dist-packages (from apache-airflow-providers-common-sql>=1.3.1->apache-airflow-providers-sqlite->apache-airflow==2.1.4) (0.4.3)\n",
            "Requirement already satisfied: pycparser in /usr/local/lib/python3.8/dist-packages (from cffi>=1.12->cryptography>=0.9.3->apache-airflow==2.1.4) (2.21)\n",
            "Requirement already satisfied: dnspython>=1.15.0 in /usr/local/lib/python3.8/dist-packages (from email-validator<2,>=1.0.5->flask-appbuilder<4.0.0,>=3.3.2->apache-airflow==2.1.4) (2.3.0)\n",
            "Requirement already satisfied: idna>=2.0.0 in /usr/local/lib/python3.8/dist-packages (from email-validator<2,>=1.0.5->flask-appbuilder<4.0.0,>=3.3.2->apache-airflow==2.1.4) (2.10)\n",
            "Requirement already satisfied: Babel>=2.3 in /usr/local/lib/python3.8/dist-packages (from Flask-Babel<3,>=1->flask-appbuilder<4.0.0,>=3.3.2->apache-airflow==2.1.4) (2.11.0)\n",
            "Collecting anyio<5.0,>=3.0\n",
            "  Downloading anyio-3.6.2-py3-none-any.whl (80 kB)\n",
            "\u001b[2K     \u001b[90m━━━━━━━━━━━━━━━━━━━━━━━━━━━━━━━━━━━━━━━━\u001b[0m \u001b[32m80.6/80.6 KB\u001b[0m \u001b[31m10.4 MB/s\u001b[0m eta \u001b[36m0:00:00\u001b[0m\n",
            "\u001b[?25hCollecting h11<0.15,>=0.13\n",
            "  Downloading h11-0.14.0-py3-none-any.whl (58 kB)\n",
            "\u001b[2K     \u001b[90m━━━━━━━━━━━━━━━━━━━━━━━━━━━━━━━━━━━━━━━━\u001b[0m \u001b[32m58.3/58.3 KB\u001b[0m \u001b[31m6.4 MB/s\u001b[0m eta \u001b[36m0:00:00\u001b[0m\n",
            "\u001b[?25hCollecting mdurl~=0.1\n",
            "  Downloading mdurl-0.1.2-py3-none-any.whl (10.0 kB)\n",
            "Requirement already satisfied: packaging>=17.0 in /usr/local/lib/python3.8/dist-packages (from marshmallow<4,>=3->flask-appbuilder<4.0.0,>=3.3.2->apache-airflow==2.1.4) (23.0)\n",
            "Requirement already satisfied: charset-normalizer<4,>=2 in /usr/local/lib/python3.8/dist-packages (from requests>=2.26.0->apache-airflow-providers-http->apache-airflow==2.1.4) (3.0.1)\n",
            "Requirement already satisfied: urllib3<1.27,>=1.21.1 in /usr/local/lib/python3.8/dist-packages (from requests>=2.26.0->apache-airflow-providers-http->apache-airflow==2.1.4) (1.24.3)\n",
            "Requirement already satisfied: frozenlist>=1.1.1 in /usr/local/lib/python3.8/dist-packages (from aiohttp->apache-airflow-providers-http->apache-airflow==2.1.4) (1.3.3)\n",
            "Requirement already satisfied: multidict<7.0,>=4.5 in /usr/local/lib/python3.8/dist-packages (from aiohttp->apache-airflow-providers-http->apache-airflow==2.1.4) (6.0.4)\n",
            "Requirement already satisfied: async-timeout<5.0,>=4.0.0a3 in /usr/local/lib/python3.8/dist-packages (from aiohttp->apache-airflow-providers-http->apache-airflow==2.1.4) (4.0.2)\n",
            "Requirement already satisfied: yarl<2.0,>=1.0 in /usr/local/lib/python3.8/dist-packages (from aiohttp->apache-airflow-providers-http->apache-airflow==2.1.4) (1.8.2)\n",
            "Requirement already satisfied: aiosignal>=1.1.2 in /usr/local/lib/python3.8/dist-packages (from aiohttp->apache-airflow-providers-http->apache-airflow==2.1.4) (1.3.1)\n",
            "Building wheels for collected packages: flask-login, python-nvd3, python-slugify, unicodecsv, Flask-JWT-Extended\n",
            "  Building wheel for flask-login (setup.py) ... \u001b[?25l\u001b[?25hdone\n",
            "  Created wheel for flask-login: filename=Flask_Login-0.4.1-py2.py3-none-any.whl size=15950 sha256=b70f87dcbf2483920cf2759355eee30a310da45a6e27bde6305691e6286712ae\n",
            "  Stored in directory: /root/.cache/pip/wheels/ec/8e/42/16110a8b4f17e4ef4bd0abd42969fc1fc38229348de9f071df\n",
            "  Building wheel for python-nvd3 (setup.py) ... \u001b[?25l\u001b[?25hdone\n",
            "  Created wheel for python-nvd3: filename=python_nvd3-0.15.0-py3-none-any.whl size=38164 sha256=6339b9757b44eefb191d12c5ca1247d4551320d62f6faee6cd6a586578f1ca7e\n",
            "  Stored in directory: /root/.cache/pip/wheels/8c/92/61/c1d567a155a1f15d2e1a633eef32ed3a7c7906c323d49fa3a2\n",
            "  Building wheel for python-slugify (setup.py) ... \u001b[?25l\u001b[?25hdone\n",
            "  Created wheel for python-slugify: filename=python_slugify-4.0.1-py2.py3-none-any.whl size=6781 sha256=f094db308f584100d88f04e846717b50733052c16f2519dc2b31fda0b0ae0fac\n",
            "  Stored in directory: /root/.cache/pip/wheels/91/4d/4f/e740a68c215791688c46c4d6251770a570e8dfea91af1acb5c\n",
            "  Building wheel for unicodecsv (setup.py) ... \u001b[?25l\u001b[?25hdone\n",
            "  Created wheel for unicodecsv: filename=unicodecsv-0.14.1-py3-none-any.whl size=10766 sha256=dd6855077e29be7f7d5046976e20498f64b2b31d25088a1a51d22cd204a9dc0d\n",
            "  Stored in directory: /root/.cache/pip/wheels/35/dd/44/ccb37563a01457f5de74ccedccaee81b01a53e12addeab5e0f\n",
            "  Building wheel for Flask-JWT-Extended (setup.py) ... \u001b[?25l\u001b[?25hdone\n",
            "  Created wheel for Flask-JWT-Extended: filename=Flask_JWT_Extended-3.25.1-py2.py3-none-any.whl size=21612 sha256=c60ff52676e40296c43ae6937a230453204b0028e7b74215198559b1f80cd50e\n",
            "  Stored in directory: /root/.cache/pip/wheels/00/60/4a/7fc484ed75cc2baea756f0a3d07aa2065d09688d940c6fac1e\n",
            "Successfully built flask-login python-nvd3 python-slugify unicodecsv Flask-JWT-Extended\n",
            "Installing collected packages: unicodecsv, rfc3986, pyjwt, lockfile, colorlog, argcomplete, tenacity, sniffio, setproctitle, requests, pytzdata, python3-openid, python-slugify, python-daemon, pygments, prison, mdurl, markupsafe, lazy-object-proxy, iso8601, inflection, importlib-resources, h11, gunicorn, graphviz, email-validator, colorama, clickclick, cachelib, blinker, attrs, asgiref, apispec, apache-airflow-providers-imap, apache-airflow-providers-ftp, apache-airflow-providers-common-sql, WTForms, sqlalchemy-utils, sqlalchemy-jsonfield, requests-toolbelt, pendulum, marshmallow-sqlalchemy, marshmallow-oneofschema, marshmallow-enum, markdown-it-py, Mako, jsonschema, cryptography, croniter, cattrs, apache-airflow-providers-sqlite, anyio, swagger-ui-bundle, rich, python-nvd3, openapi-schema-validator, httpcore, apache-airflow-providers-http, alembic, openapi-spec-validator, httpx, flask-wtf, Flask-SQLAlchemy, Flask-OpenID, flask-login, Flask-JWT-Extended, flask-caching, Flask-Babel, flask-appbuilder, apache-airflow\n",
            "  Attempting uninstall: tenacity\n",
            "    Found existing installation: tenacity 8.2.1\n",
            "    Uninstalling tenacity-8.2.1:\n",
            "      Successfully uninstalled tenacity-8.2.1\n",
            "  Attempting uninstall: requests\n",
            "    Found existing installation: requests 2.25.1\n",
            "    Uninstalling requests-2.25.1:\n",
            "      Successfully uninstalled requests-2.25.1\n",
            "  Attempting uninstall: python-slugify\n",
            "    Found existing installation: python-slugify 8.0.0\n",
            "    Uninstalling python-slugify-8.0.0:\n",
            "      Successfully uninstalled python-slugify-8.0.0\n",
            "  Attempting uninstall: pygments\n",
            "    Found existing installation: Pygments 2.6.1\n",
            "    Uninstalling Pygments-2.6.1:\n",
            "      Successfully uninstalled Pygments-2.6.1\n",
            "  Attempting uninstall: markupsafe\n",
            "    Found existing installation: MarkupSafe 2.0.1\n",
            "    Uninstalling MarkupSafe-2.0.1:\n",
            "      Successfully uninstalled MarkupSafe-2.0.1\n",
            "  Attempting uninstall: importlib-resources\n",
            "    Found existing installation: importlib-resources 5.12.0\n",
            "    Uninstalling importlib-resources-5.12.0:\n",
            "      Successfully uninstalled importlib-resources-5.12.0\n",
            "  Attempting uninstall: graphviz\n",
            "    Found existing installation: graphviz 0.10.1\n",
            "    Uninstalling graphviz-0.10.1:\n",
            "      Successfully uninstalled graphviz-0.10.1\n",
            "  Attempting uninstall: attrs\n",
            "    Found existing installation: attrs 22.2.0\n",
            "    Uninstalling attrs-22.2.0:\n",
            "      Successfully uninstalled attrs-22.2.0\n",
            "  Attempting uninstall: jsonschema\n",
            "    Found existing installation: jsonschema 4.3.3\n",
            "    Uninstalling jsonschema-4.3.3:\n",
            "      Successfully uninstalled jsonschema-4.3.3\n",
            "\u001b[31mERROR: pip's dependency resolver does not currently take into account all the packages that are installed. This behaviour is the source of the following dependency conflicts.\n",
            "ipython 7.9.0 requires jedi>=0.10, which is not installed.\u001b[0m\u001b[31m\n",
            "\u001b[0mSuccessfully installed Flask-Babel-2.0.0 Flask-JWT-Extended-3.25.1 Flask-OpenID-1.3.0 Flask-SQLAlchemy-2.5.1 Mako-1.2.4 WTForms-2.3.3 alembic-1.9.4 anyio-3.6.2 apache-airflow-2.1.4 apache-airflow-providers-common-sql-1.3.3 apache-airflow-providers-ftp-3.3.1 apache-airflow-providers-http-4.2.0 apache-airflow-providers-imap-3.1.1 apache-airflow-providers-sqlite-3.3.1 apispec-3.3.2 argcomplete-1.12.3 asgiref-3.6.0 attrs-20.3.0 blinker-1.5 cachelib-0.10.2 cattrs-1.5.0 clickclick-20.10.2 colorama-0.4.6 colorlog-5.0.1 croniter-1.0.15 cryptography-39.0.1 email-validator-1.3.1 flask-appbuilder-3.4.5 flask-caching-1.11.1 flask-login-0.4.1 flask-wtf-0.14.3 graphviz-0.20.1 gunicorn-20.1.0 h11-0.14.0 httpcore-0.16.3 httpx-0.23.3 importlib-resources-1.5.0 inflection-0.5.1 iso8601-1.1.0 jsonschema-3.2.0 lazy-object-proxy-1.9.0 lockfile-0.12.2 markdown-it-py-2.2.0 markupsafe-1.1.1 marshmallow-enum-1.5.1 marshmallow-oneofschema-3.0.1 marshmallow-sqlalchemy-0.26.1 mdurl-0.1.2 openapi-schema-validator-0.2.3 openapi-spec-validator-0.4.0 pendulum-2.1.2 prison-0.2.1 pygments-2.14.0 pyjwt-1.7.1 python-daemon-2.3.2 python-nvd3-0.15.0 python-slugify-4.0.1 python3-openid-3.2.0 pytzdata-2020.1 requests-2.28.2 requests-toolbelt-0.10.1 rfc3986-1.5.0 rich-13.3.1 setproctitle-1.3.2 sniffio-1.3.0 sqlalchemy-jsonfield-1.0.1.post0 sqlalchemy-utils-0.40.0 swagger-ui-bundle-0.0.9 tenacity-6.2.0 unicodecsv-0.14.1\n",
            "Looking in indexes: https://pypi.org/simple, https://us-python.pkg.dev/colab-wheels/public/simple/\n",
            "Requirement already satisfied: wtforms==2.3.3 in /usr/local/lib/python3.8/dist-packages (2.3.3)\n",
            "Requirement already satisfied: MarkupSafe in /usr/local/lib/python3.8/dist-packages (from wtforms==2.3.3) (1.1.1)\n",
            "DB: sqlite:////root/airflow/airflow.db\n",
            "[\u001b[34m2023-02-26 13:40:47,596\u001b[0m] {\u001b[34mdb.py:\u001b[0m702} INFO\u001b[0m - Creating tables\u001b[0m\n",
            "\u001b[1;33m/usr/local/lib/python3.8/dist-packages/airflow/utils/\u001b[0m\u001b[1;33mdb.py\u001b[0m\u001b[1;33m:\u001b[0m\u001b[1;33m641\u001b[0m\u001b[1;33m SAWarning\u001b[0m\u001b[33m: relationship \u001b[0m\u001b[33m'DagRun.serialized_dag'\u001b[0m\u001b[33m will copy column serialized_dag.dag_id to column dag_run.dag_id, which conflicts with \u001b[0m\u001b[1;33mrelationship\u001b[0m\u001b[1;33m(\u001b[0m\u001b[33ms\u001b[0m\u001b[1;33m)\u001b[0m\u001b[33m: \u001b[0m\u001b[33m'DagRun.task_instances'\u001b[0m\u001b[33m \u001b[0m\u001b[1;33m(\u001b[0m\u001b[33mcopies task_instance.dag_id to dag_run.dag_id\u001b[0m\u001b[1;33m)\u001b[0m\u001b[33m, \u001b[0m\u001b[33m'TaskInstance.dag_run'\u001b[0m\u001b[33m \u001b[0m\u001b[1;33m(\u001b[0m\u001b[33mcopies task_instance.dag_id to dag_run.dag_id\u001b[0m\u001b[1;33m)\u001b[0m\u001b[33m. If this is not the intention, consider if these relationships should be linked with back_populates, or if \u001b[0m\u001b[33mviewonly\u001b[0m\u001b[33m=\u001b[0m\u001b[3;33mTrue\u001b[0m\u001b[33m should be applied to one or more if they are read-only. For the less common case that foreign key constraints are partially overlapping, the \u001b[0m\u001b[1;33morm.foreign\u001b[0m\u001b[1;33m(\u001b[0m\u001b[1;33m)\u001b[0m\u001b[33m annotation can be used to isolate the columns that should be written towards.   To silence this warning, add the parameter \u001b[0m\u001b[33m'\u001b[0m\u001b[33moverlaps\u001b[0m\u001b[33m=\u001b[0m\u001b[33m\"dag_run\u001b[0m\u001b[33m,task_instances\"'\u001b[0m\u001b[33m to the \u001b[0m\u001b[33m'DagRun.serialized_dag'\u001b[0m\u001b[33m relationship. \u001b[0m\u001b[1;33m(\u001b[0m\u001b[33mBackground on this error at: \u001b[0m\u001b[4;33mhttps://sqlalche.me/e/14/qzyx\u001b[0m\u001b[4;33m)\u001b[0m\n",
            "\u001b[1;33m/usr/local/lib/python3.8/dist-packages/airflow/utils/\u001b[0m\u001b[1;33mdb.py\u001b[0m\u001b[1;33m:\u001b[0m\u001b[1;33m641\u001b[0m\u001b[1;33m SAWarning\u001b[0m\u001b[33m: relationship \u001b[0m\u001b[33m'SerializedDagModel.dag_runs'\u001b[0m\u001b[33m will copy column serialized_dag.dag_id to column dag_run.dag_id, which conflicts with \u001b[0m\u001b[1;33mrelationship\u001b[0m\u001b[1;33m(\u001b[0m\u001b[33ms\u001b[0m\u001b[1;33m)\u001b[0m\u001b[33m: \u001b[0m\u001b[33m'DagRun.task_instances'\u001b[0m\u001b[33m \u001b[0m\u001b[1;33m(\u001b[0m\u001b[33mcopies task_instance.dag_id to dag_run.dag_id\u001b[0m\u001b[1;33m)\u001b[0m\u001b[33m, \u001b[0m\u001b[33m'TaskInstance.dag_run'\u001b[0m\u001b[33m \u001b[0m\u001b[1;33m(\u001b[0m\u001b[33mcopies task_instance.dag_id to dag_run.dag_id\u001b[0m\u001b[1;33m)\u001b[0m\u001b[33m. If this is not the intention, consider if these relationships should be linked with back_populates, or if \u001b[0m\u001b[33mviewonly\u001b[0m\u001b[33m=\u001b[0m\u001b[3;33mTrue\u001b[0m\u001b[33m should be applied to one or more if they are read-only. For the less common case that foreign key constraints are partially overlapping, the \u001b[0m\u001b[1;33morm.foreign\u001b[0m\u001b[1;33m(\u001b[0m\u001b[1;33m)\u001b[0m\u001b[33m annotation can be used to isolate the columns that should be written towards.   To silence this warning, add the parameter \u001b[0m\u001b[33m'\u001b[0m\u001b[33moverlaps\u001b[0m\u001b[33m=\u001b[0m\u001b[33m\"dag_run\u001b[0m\u001b[33m,task_instances\"'\u001b[0m\u001b[33m to the \u001b[0m\u001b[33m'SerializedDagModel.dag_runs'\u001b[0m\u001b[33m relationship. \u001b[0m\u001b[1;33m(\u001b[0m\u001b[33mBackground on this error at: \u001b[0m\u001b[4;33mhttps://sqlalche.me/e/14/qzyx\u001b[0m\u001b[4;33m)\u001b[0m\n",
            "INFO  [alembic.runtime.migration] Context impl SQLiteImpl.\n",
            "INFO  [alembic.runtime.migration] Will assume non-transactional DDL.\n",
            "INFO  [alembic.runtime.migration] Running upgrade  -> e3a246e0dc1, current schema\n",
            "INFO  [alembic.runtime.migration] Running upgrade e3a246e0dc1 -> 1507a7289a2f, create is_encrypted\n",
            "INFO  [alembic.runtime.migration] Running upgrade 1507a7289a2f -> 13eb55f81627, maintain history for compatibility with earlier migrations\n",
            "INFO  [alembic.runtime.migration] Running upgrade 13eb55f81627 -> 338e90f54d61, More logging into task_instance\n",
            "INFO  [alembic.runtime.migration] Running upgrade 338e90f54d61 -> 52d714495f0, job_id indices\n",
            "INFO  [alembic.runtime.migration] Running upgrade 52d714495f0 -> 502898887f84, Adding extra to Log\n",
            "INFO  [alembic.runtime.migration] Running upgrade 502898887f84 -> 1b38cef5b76e, add dagrun\n",
            "INFO  [alembic.runtime.migration] Running upgrade 1b38cef5b76e -> 2e541a1dcfed, task_duration\n",
            "INFO  [alembic.runtime.migration] Running upgrade 2e541a1dcfed -> 40e67319e3a9, dagrun_config\n",
            "INFO  [alembic.runtime.migration] Running upgrade 40e67319e3a9 -> 561833c1c74b, add password column to user\n",
            "INFO  [alembic.runtime.migration] Running upgrade 561833c1c74b -> 4446e08588, dagrun start end\n",
            "INFO  [alembic.runtime.migration] Running upgrade 4446e08588 -> bbc73705a13e, Add notification_sent column to sla_miss\n",
            "INFO  [alembic.runtime.migration] Running upgrade bbc73705a13e -> bba5a7cfc896, Add a column to track the encryption state of the 'Extra' field in connection\n",
            "INFO  [alembic.runtime.migration] Running upgrade bba5a7cfc896 -> 1968acfc09e3, add is_encrypted column to variable table\n",
            "INFO  [alembic.runtime.migration] Running upgrade 1968acfc09e3 -> 2e82aab8ef20, rename user table\n",
            "INFO  [alembic.runtime.migration] Running upgrade 2e82aab8ef20 -> 211e584da130, add TI state index\n",
            "INFO  [alembic.runtime.migration] Running upgrade 211e584da130 -> 64de9cddf6c9, add task fails journal table\n",
            "INFO  [alembic.runtime.migration] Running upgrade 64de9cddf6c9 -> f2ca10b85618, add dag_stats table\n",
            "INFO  [alembic.runtime.migration] Running upgrade f2ca10b85618 -> 4addfa1236f1, Add fractional seconds to mysql tables\n",
            "INFO  [alembic.runtime.migration] Running upgrade 4addfa1236f1 -> 8504051e801b, xcom dag task indices\n",
            "INFO  [alembic.runtime.migration] Running upgrade 8504051e801b -> 5e7d17757c7a, add pid field to TaskInstance\n",
            "INFO  [alembic.runtime.migration] Running upgrade 5e7d17757c7a -> 127d2bf2dfa7, Add dag_id/state index on dag_run table\n",
            "INFO  [alembic.runtime.migration] Running upgrade 127d2bf2dfa7 -> cc1e65623dc7, add max tries column to task instance\n",
            "WARNI [unusual_prefix_29f86b268ee2fc845f05f8c9939fae016b0c47cc_example_kubernetes_executor_config] Could not import DAGs in example_kubernetes_executor_config.py: No module named 'kubernetes'\n",
            "WARNI [unusual_prefix_29f86b268ee2fc845f05f8c9939fae016b0c47cc_example_kubernetes_executor_config] Install kubernetes dependencies with: pip install apache-airflow['cncf.kubernetes']\n",
            "INFO  [alembic.runtime.migration] Running upgrade cc1e65623dc7 -> bdaa763e6c56, Make xcom value column a large binary\n",
            "INFO  [alembic.runtime.migration] Running upgrade bdaa763e6c56 -> 947454bf1dff, add ti job_id index\n",
            "INFO  [alembic.runtime.migration] Running upgrade 947454bf1dff -> d2ae31099d61, Increase text size for MySQL (not relevant for other DBs' text types)\n",
            "INFO  [alembic.runtime.migration] Running upgrade d2ae31099d61 -> 0e2a74e0fc9f, Add time zone awareness\n",
            "INFO  [alembic.runtime.migration] Running upgrade d2ae31099d61 -> 33ae817a1ff4, kubernetes_resource_checkpointing\n",
            "INFO  [alembic.runtime.migration] Running upgrade 33ae817a1ff4 -> 27c6a30d7c24, kubernetes_resource_checkpointing\n",
            "INFO  [alembic.runtime.migration] Running upgrade 27c6a30d7c24 -> 86770d1215c0, add kubernetes scheduler uniqueness\n",
            "INFO  [alembic.runtime.migration] Running upgrade 86770d1215c0, 0e2a74e0fc9f -> 05f30312d566, merge heads\n",
            "INFO  [alembic.runtime.migration] Running upgrade 05f30312d566 -> f23433877c24, fix mysql not null constraint\n",
            "INFO  [alembic.runtime.migration] Running upgrade f23433877c24 -> 856955da8476, fix sqlite foreign key\n",
            "INFO  [alembic.runtime.migration] Running upgrade 856955da8476 -> 9635ae0956e7, index-faskfail\n",
            "INFO  [alembic.runtime.migration] Running upgrade 9635ae0956e7 -> dd25f486b8ea, add idx_log_dag\n",
            "INFO  [alembic.runtime.migration] Running upgrade dd25f486b8ea -> bf00311e1990, add index to taskinstance\n",
            "INFO  [alembic.runtime.migration] Running upgrade 9635ae0956e7 -> 0a2a5b66e19d, add task_reschedule table\n",
            "INFO  [alembic.runtime.migration] Running upgrade 0a2a5b66e19d, bf00311e1990 -> 03bc53e68815, merge_heads_2\n",
            "INFO  [alembic.runtime.migration] Running upgrade 03bc53e68815 -> 41f5f12752f8, add superuser field\n",
            "INFO  [alembic.runtime.migration] Running upgrade 41f5f12752f8 -> c8ffec048a3b, add fields to dag\n",
            "INFO  [alembic.runtime.migration] Running upgrade c8ffec048a3b -> dd4ecb8fbee3, Add schedule interval to dag\n",
            "INFO  [alembic.runtime.migration] Running upgrade dd4ecb8fbee3 -> 939bb1e647c8, task reschedule fk on cascade delete\n",
            "INFO  [alembic.runtime.migration] Running upgrade 939bb1e647c8 -> 6e96a59344a4, Make TaskInstance.pool not nullable\n",
            "INFO  [alembic.runtime.migration] Running upgrade 6e96a59344a4 -> d38e04c12aa2, add serialized_dag table\n",
            "INFO  [alembic.runtime.migration] Running upgrade d38e04c12aa2 -> b3b105409875, add root_dag_id to DAG\n",
            "INFO  [alembic.runtime.migration] Running upgrade 6e96a59344a4 -> 74effc47d867, change datetime to datetime2(6) on MSSQL tables\n",
            "INFO  [alembic.runtime.migration] Running upgrade 939bb1e647c8 -> 004c1210f153, increase queue name size limit\n",
            "INFO  [alembic.runtime.migration] Running upgrade c8ffec048a3b -> a56c9515abdc, Remove dag_stat table\n",
            "INFO  [alembic.runtime.migration] Running upgrade a56c9515abdc, 004c1210f153, 74effc47d867, b3b105409875 -> 08364691d074, Merge the four heads back together\n",
            "INFO  [alembic.runtime.migration] Running upgrade 08364691d074 -> fe461863935f, increase_length_for_connection_password\n",
            "INFO  [alembic.runtime.migration] Running upgrade fe461863935f -> 7939bcff74ba, Add DagTags table\n",
            "INFO  [alembic.runtime.migration] Running upgrade 7939bcff74ba -> a4c2fd67d16b, add pool_slots field to task_instance\n",
            "INFO  [alembic.runtime.migration] Running upgrade a4c2fd67d16b -> 852ae6c715af, Add RenderedTaskInstanceFields table\n",
            "INFO  [alembic.runtime.migration] Running upgrade 852ae6c715af -> 952da73b5eff, add dag_code table\n",
            "INFO  [alembic.runtime.migration] Running upgrade 952da73b5eff -> a66efa278eea, Add Precision to execution_date in RenderedTaskInstanceFields table\n",
            "INFO  [alembic.runtime.migration] Running upgrade a66efa278eea -> da3f683c3a5a, Add dag_hash Column to serialized_dag table\n",
            "INFO  [alembic.runtime.migration] Running upgrade da3f683c3a5a -> 92c57b58940d, Create FAB Tables\n",
            "INFO  [alembic.runtime.migration] Running upgrade 92c57b58940d -> 03afc6b6f902, Increase length of FAB ab_view_menu.name column\n",
            "INFO  [alembic.runtime.migration] Running upgrade 03afc6b6f902 -> cf5dc11e79ad, drop_user_and_chart\n",
            "INFO  [alembic.runtime.migration] Running upgrade cf5dc11e79ad -> bbf4a7ad0465, Remove id column from xcom\n",
            "INFO  [alembic.runtime.migration] Running upgrade bbf4a7ad0465 -> b25a55525161, Increase length of pool name\n",
            "INFO  [alembic.runtime.migration] Running upgrade b25a55525161 -> 3c20cacc0044, Add DagRun run_type\n",
            "INFO  [alembic.runtime.migration] Running upgrade 3c20cacc0044 -> 8f966b9c467a, Set conn_type as non-nullable\n",
            "INFO  [alembic.runtime.migration] Running upgrade 8f966b9c467a -> 8d48763f6d53, add unique constraint to conn_id\n",
            "INFO  [alembic.runtime.migration] Running upgrade 8d48763f6d53 -> e38be357a868, Add sensor_instance table\n",
            "INFO  [alembic.runtime.migration] Running upgrade e38be357a868 -> b247b1e3d1ed, Add queued by Job ID to TI\n",
            "INFO  [alembic.runtime.migration] Running upgrade b247b1e3d1ed -> e1a11ece99cc, Add external executor ID to TI\n",
            "INFO  [alembic.runtime.migration] Running upgrade e1a11ece99cc -> bef4f3d11e8b, Drop KubeResourceVersion and KubeWorkerId\n",
            "INFO  [alembic.runtime.migration] Running upgrade bef4f3d11e8b -> 98271e7606e2, Add scheduling_decision to DagRun and DAG\n",
            "INFO  [alembic.runtime.migration] Running upgrade 98271e7606e2 -> 52d53670a240, fix_mssql_exec_date_rendered_task_instance_fields_for_MSSQL\n",
            "INFO  [alembic.runtime.migration] Running upgrade 52d53670a240 -> 364159666cbd, Add creating_job_id to DagRun table\n",
            "INFO  [alembic.runtime.migration] Running upgrade 364159666cbd -> 45ba3f1493b9, add-k8s-yaml-to-rendered-templates\n",
            "INFO  [alembic.runtime.migration] Running upgrade 45ba3f1493b9 -> 849da589634d, Prefix DAG permissions.\n",
            "INFO  [alembic.runtime.migration] Running upgrade 849da589634d -> 2c6edca13270, Resource based permissions.\n",
            "[\u001b[34m2023-02-26 13:40:51,222\u001b[0m] {\u001b[34mmanager.py:\u001b[0m805} \u001b[33mWARNING\u001b[0m - \u001b[33mNo user yet created, use flask fab command to do it.\u001b[0m\n",
            "INFO  [alembic.runtime.migration] Running upgrade 2c6edca13270 -> 61ec73d9401f, Add description field to connection\n",
            "INFO  [alembic.runtime.migration] Running upgrade 61ec73d9401f -> 64a7d6477aae, fix description field in connection to be text\n",
            "INFO  [alembic.runtime.migration] Running upgrade 64a7d6477aae -> e959f08ac86c, Change field in DagCode to MEDIUMTEXT for MySql\n",
            "INFO  [alembic.runtime.migration] Running upgrade e959f08ac86c -> 82b7c48c147f, Remove can_read permission on config resource for User and Viewer role\n",
            "[\u001b[34m2023-02-26 13:40:56,291\u001b[0m] {\u001b[34mmanager.py:\u001b[0m805} \u001b[33mWARNING\u001b[0m - \u001b[33mNo user yet created, use flask fab command to do it.\u001b[0m\n",
            "INFO  [alembic.runtime.migration] Running upgrade 82b7c48c147f -> 449b4072c2da, Increase size of connection.extra field to handle multiple RSA keys\n",
            "INFO  [alembic.runtime.migration] Running upgrade 449b4072c2da -> 8646922c8a04, Change default pool_slots to 1\n",
            "INFO  [alembic.runtime.migration] Running upgrade 8646922c8a04 -> 2e42bb497a22, rename last_scheduler_run column\n",
            "INFO  [alembic.runtime.migration] Running upgrade 2e42bb497a22 -> 90d1635d7b86, Increase pool name size in TaskInstance\n",
            "INFO  [alembic.runtime.migration] Running upgrade 90d1635d7b86 -> e165e7455d70, add description field to variable\n",
            "INFO  [alembic.runtime.migration] Running upgrade e165e7455d70 -> a13f7613ad25, Resource based permissions for default FAB views.\n",
            "[\u001b[34m2023-02-26 13:40:58,227\u001b[0m] {\u001b[34mmanager.py:\u001b[0m805} \u001b[33mWARNING\u001b[0m - \u001b[33mNo user yet created, use flask fab command to do it.\u001b[0m\n",
            "INFO  [alembic.runtime.migration] Running upgrade a13f7613ad25 -> 97cdd93827b8, Add queued_at column to dagrun table\n",
            "INFO  [alembic.runtime.migration] Running upgrade 97cdd93827b8 -> 092435bf5d12, Add max_active_runs column to dagmodel table\n",
            "INFO  [alembic.runtime.migration] Running upgrade 092435bf5d12 -> ccde3e26fe78, Add index on state, dag_id for queued dagrun\n",
            "WARNI [airflow.models.crypto] empty cryptography key - values will not be stored encrypted.\n",
            "INFO  [airflow.models.dagbag.DagBag] Filling up the DagBag from /root/airflow/dags\n",
            "WARNI [unusual_prefix_29f86b268ee2fc845f05f8c9939fae016b0c47cc_example_kubernetes_executor_config] Could not import DAGs in example_kubernetes_executor_config.py: No module named 'kubernetes'\n",
            "WARNI [unusual_prefix_29f86b268ee2fc845f05f8c9939fae016b0c47cc_example_kubernetes_executor_config] Install kubernetes dependencies with: pip install apache-airflow['cncf.kubernetes']\n",
            "\u001b[1;33m/usr/local/lib/python3.8/dist-packages/airflow/models/\u001b[0m\u001b[1;33mserialized_dag.py\u001b[0m\u001b[1;33m:\u001b[0m\u001b[1;33m120\u001b[0m\u001b[1;33m SAWarning\u001b[0m\u001b[33m: TypeDecorator \u001b[0m\u001b[1;33mUtcDateTime\u001b[0m\u001b[1;33m(\u001b[0m\u001b[33mtimezone\u001b[0m\u001b[33m=\u001b[0m\u001b[3;33mTrue\u001b[0m\u001b[1;33m)\u001b[0m\u001b[33m will not produce a cache key because the ``cache_ok`` attribute is not set to \u001b[0m\u001b[3;33mTrue\u001b[0m\u001b[33m.  This can have significant performance implications including some performance degradations in comparison to prior SQLAlchemy versions.  Set this attribute to \u001b[0m\u001b[3;33mTrue\u001b[0m\u001b[33m if this type object's state is safe to use in a cache key, or \u001b[0m\u001b[3;33mFalse\u001b[0m\u001b[33m to disable this warning. \u001b[0m\u001b[1;33m(\u001b[0m\u001b[33mBackground on this error at: \u001b[0m\u001b[4;33mhttps://sqlalche.me/e/14/cprf\u001b[0m\u001b[4;33m)\u001b[0m\n",
            "INFO  [airflow.models.dag] Sync 33 DAGs\n",
            "INFO  [airflow.models.dag] Creating ORM DAG for tutorial_etl_dag\n",
            "INFO  [airflow.models.dag] Creating ORM DAG for tutorial\n",
            "INFO  [airflow.models.dag] Creating ORM DAG for example_subdag_operator.section-1\n",
            "INFO  [airflow.models.dag] Creating ORM DAG for example_short_circuit_operator\n",
            "INFO  [airflow.models.dag] Creating ORM DAG for latest_only\n",
            "INFO  [airflow.models.dag] Creating ORM DAG for example_external_task_marker_child\n",
            "INFO  [airflow.models.dag] Creating ORM DAG for example_task_group\n",
            "INFO  [airflow.models.dag] Creating ORM DAG for example_branch_labels\n",
            "INFO  [airflow.models.dag] Creating ORM DAG for example_trigger_target_dag\n",
            "INFO  [airflow.models.dag] Creating ORM DAG for example_bash_operator\n",
            "INFO  [airflow.models.dag] Creating ORM DAG for example_task_group_decorator\n",
            "INFO  [airflow.models.dag] Creating ORM DAG for example_xcom_args_with_operators\n",
            "INFO  [airflow.models.dag] Creating ORM DAG for example_branch_operator\n",
            "INFO  [airflow.models.dag] Creating ORM DAG for test_utils\n",
            "INFO  [airflow.models.dag] Creating ORM DAG for example_external_task_marker_parent\n",
            "INFO  [airflow.models.dag] Creating ORM DAG for example_xcom_args\n",
            "INFO  [airflow.models.dag] Creating ORM DAG for example_dag_decorator\n",
            "INFO  [airflow.models.dag] Creating ORM DAG for example_xcom\n",
            "INFO  [airflow.models.dag] Creating ORM DAG for tutorial_taskflow_api_etl_virtualenv\n",
            "INFO  [airflow.models.dag] Creating ORM DAG for example_kubernetes_executor\n",
            "INFO  [airflow.models.dag] Creating ORM DAG for tutorial_taskflow_api_etl\n",
            "INFO  [airflow.models.dag] Creating ORM DAG for example_python_operator\n",
            "INFO  [airflow.models.dag] Creating ORM DAG for example_subdag_operator.section-2\n",
            "INFO  [airflow.models.dag] Creating ORM DAG for example_trigger_controller_dag\n",
            "INFO  [airflow.models.dag] Creating ORM DAG for example_branch_datetime_operator_2\n",
            "INFO  [airflow.models.dag] Creating ORM DAG for example_weekday_branch_operator\n",
            "INFO  [airflow.models.dag] Creating ORM DAG for example_skip_dag\n",
            "INFO  [airflow.models.dag] Creating ORM DAG for latest_only_with_trigger\n",
            "INFO  [airflow.models.dag] Creating ORM DAG for example_complex\n",
            "INFO  [airflow.models.dag] Creating ORM DAG for example_subdag_operator\n",
            "INFO  [airflow.models.dag] Creating ORM DAG for example_nested_branch_dag\n",
            "INFO  [airflow.models.dag] Creating ORM DAG for example_passing_params_via_test_command\n",
            "INFO  [airflow.models.dag] Creating ORM DAG for example_branch_dop_operator_v3\n",
            "\u001b[1;33m/usr/local/lib/python3.8/dist-packages/airflow/models/\u001b[0m\u001b[1;33mdag.py\u001b[0m\u001b[1;33m:\u001b[0m\u001b[1;33m1859\u001b[0m\u001b[1;33m SAWarning\u001b[0m\u001b[33m: TypeDecorator \u001b[0m\u001b[1;33mUtcDateTime\u001b[0m\u001b[1;33m(\u001b[0m\u001b[33mtimezone\u001b[0m\u001b[33m=\u001b[0m\u001b[3;33mTrue\u001b[0m\u001b[1;33m)\u001b[0m\u001b[33m will not produce a cache key because the ``cache_ok`` attribute is not set to \u001b[0m\u001b[3;33mTrue\u001b[0m\u001b[33m.  This can have significant performance implications including some performance degradations in comparison to prior SQLAlchemy versions.  Set this attribute to \u001b[0m\u001b[3;33mTrue\u001b[0m\u001b[33m if this type object's state is safe to use in a cache key, or \u001b[0m\u001b[3;33mFalse\u001b[0m\u001b[33m to disable this warning. \u001b[0m\u001b[1;33m(\u001b[0m\u001b[33mBackground on this error at: \u001b[0m\u001b[4;33mhttps://sqlalche.me/e/14/cprf\u001b[0m\u001b[4;33m)\u001b[0m\n",
            "INFO  [airflow.models.dag] Setting next_dagrun for example_bash_operator to 2023-02-24 00:00:00+00:00\n",
            "INFO  [airflow.models.dag] Setting next_dagrun for example_branch_datetime_operator_2 to 2023-02-24 00:00:00+00:00\n",
            "INFO  [airflow.models.dag] Setting next_dagrun for example_branch_dop_operator_v3 to 2023-02-24 00:00:00+00:00\n",
            "INFO  [airflow.models.dag] Setting next_dagrun for example_branch_labels to 2023-02-24 00:00:00+00:00\n",
            "INFO  [airflow.models.dag] Setting next_dagrun for example_branch_operator to 2023-02-24 00:00:00+00:00\n",
            "INFO  [airflow.models.dag] Setting next_dagrun for example_complex to None\n",
            "INFO  [airflow.models.dag] Setting next_dagrun for example_dag_decorator to None\n",
            "INFO  [airflow.models.dag] Setting next_dagrun for example_external_task_marker_child to None\n",
            "INFO  [airflow.models.dag] Setting next_dagrun for example_external_task_marker_parent to None\n",
            "INFO  [airflow.models.dag] Setting next_dagrun for example_kubernetes_executor to None\n",
            "INFO  [airflow.models.dag] Setting next_dagrun for example_nested_branch_dag to 2023-02-24 00:00:00+00:00\n",
            "INFO  [airflow.models.dag] Setting next_dagrun for example_passing_params_via_test_command to 2023-02-25 00:00:00+00:00\n",
            "INFO  [airflow.models.dag] Setting next_dagrun for example_python_operator to None\n",
            "INFO  [airflow.models.dag] Setting next_dagrun for example_short_circuit_operator to 2023-02-24 00:00:00+00:00\n",
            "INFO  [airflow.models.dag] Setting next_dagrun for example_skip_dag to 2023-02-24 00:00:00+00:00\n",
            "INFO  [airflow.models.dag] Setting next_dagrun for example_subdag_operator to 2023-02-24 00:00:00+00:00\n",
            "INFO  [airflow.models.dag] Setting next_dagrun for example_subdag_operator.section-1 to None\n",
            "INFO  [airflow.models.dag] Setting next_dagrun for example_subdag_operator.section-2 to None\n",
            "INFO  [airflow.models.dag] Setting next_dagrun for example_task_group to 2023-02-24 00:00:00+00:00\n",
            "INFO  [airflow.models.dag] Setting next_dagrun for example_task_group_decorator to 2023-02-24 00:00:00+00:00\n",
            "INFO  [airflow.models.dag] Setting next_dagrun for example_trigger_controller_dag to 2023-02-24 00:00:00+00:00\n",
            "INFO  [airflow.models.dag] Setting next_dagrun for example_trigger_target_dag to None\n",
            "INFO  [airflow.models.dag] Setting next_dagrun for example_weekday_branch_operator to 2023-02-24 00:00:00+00:00\n",
            "INFO  [airflow.models.dag] Setting next_dagrun for example_xcom to 2023-02-24 00:00:00+00:00\n",
            "INFO  [airflow.models.dag] Setting next_dagrun for example_xcom_args to None\n",
            "INFO  [airflow.models.dag] Setting next_dagrun for example_xcom_args_with_operators to None\n",
            "INFO  [airflow.models.dag] Setting next_dagrun for latest_only to 2023-02-24 00:00:00+00:00\n",
            "INFO  [airflow.models.dag] Setting next_dagrun for latest_only_with_trigger to 2023-02-24 00:00:00+00:00\n",
            "INFO  [airflow.models.dag] Setting next_dagrun for test_utils to None\n",
            "INFO  [airflow.models.dag] Setting next_dagrun for tutorial to 2023-02-24 00:00:00+00:00\n",
            "INFO  [airflow.models.dag] Setting next_dagrun for tutorial_etl_dag to None\n",
            "INFO  [airflow.models.dag] Setting next_dagrun for tutorial_taskflow_api_etl to None\n",
            "INFO  [airflow.models.dag] Setting next_dagrun for tutorial_taskflow_api_etl_virtualenv to None\n",
            "INFO  [airflow.models.dag] Sync 2 DAGs\n",
            "INFO  [airflow.models.dag] Setting next_dagrun for example_subdag_operator.section-1 to None\n",
            "INFO  [airflow.models.dag] Setting next_dagrun for example_subdag_operator.section-2 to None\n",
            "Initialization done\n"
          ]
        }
      ]
    },
    {
      "cell_type": "code",
      "metadata": {
        "id": "Ri_LIxa4z08a"
      },
      "source": [
        "# Создадим необходимые папки\n",
        "!mkdir /root/airflow/dags\n",
        "!touch /root/airflow/dags/dag.py"
      ],
      "execution_count": 2,
      "outputs": []
    },
    {
      "cell_type": "code",
      "metadata": {
        "id": "Qx1Jfp2O0CBP",
        "outputId": "1c85fc4b-3eaf-4713-90ca-e61f21cc7805",
        "colab": {
          "base_uri": "https://localhost:8080/"
        }
      },
      "source": [
        "# Включим веб-сервер\n",
        "!airflow webserver -p 18273 -D"
      ],
      "execution_count": 3,
      "outputs": [
        {
          "output_type": "stream",
          "name": "stdout",
          "text": [
            "\u001b[1;33m/usr/local/lib/python3.8/dist-packages/flask_appbuilder/models/sqla/\u001b[0m\u001b[1;33minterface.py\u001b[0m\u001b[1;33m:\u001b[0m\u001b[1;33m68\u001b[0m\u001b[1;33m SAWarning\u001b[0m\u001b[33m: relationship \u001b[0m\u001b[33m'DagRun.serialized_dag'\u001b[0m\u001b[33m will copy column serialized_dag.dag_id to column dag_run.dag_id, which conflicts with \u001b[0m\u001b[1;33mrelationship\u001b[0m\u001b[1;33m(\u001b[0m\u001b[33ms\u001b[0m\u001b[1;33m)\u001b[0m\u001b[33m: \u001b[0m\u001b[33m'DagRun.task_instances'\u001b[0m\u001b[33m \u001b[0m\u001b[1;33m(\u001b[0m\u001b[33mcopies task_instance.dag_id to dag_run.dag_id\u001b[0m\u001b[1;33m)\u001b[0m\u001b[33m, \u001b[0m\u001b[33m'TaskInstance.dag_run'\u001b[0m\u001b[33m \u001b[0m\u001b[1;33m(\u001b[0m\u001b[33mcopies task_instance.dag_id to dag_run.dag_id\u001b[0m\u001b[1;33m)\u001b[0m\u001b[33m. If this is not the intention, consider if these relationships should be linked with back_populates, or if \u001b[0m\u001b[33mviewonly\u001b[0m\u001b[33m=\u001b[0m\u001b[3;33mTrue\u001b[0m\u001b[33m should be applied to one or more if they are read-only. For the less common case that foreign key constraints are partially overlapping, the \u001b[0m\u001b[1;33morm.foreign\u001b[0m\u001b[1;33m(\u001b[0m\u001b[1;33m)\u001b[0m\u001b[33m annotation can be used to isolate the columns that should be written towards.   To silence this warning, add the parameter \u001b[0m\u001b[33m'\u001b[0m\u001b[33moverlaps\u001b[0m\u001b[33m=\u001b[0m\u001b[33m\"dag_run\u001b[0m\u001b[33m,task_instances\"'\u001b[0m\u001b[33m to the \u001b[0m\u001b[33m'DagRun.serialized_dag'\u001b[0m\u001b[33m relationship. \u001b[0m\u001b[1;33m(\u001b[0m\u001b[33mBackground on this error at: \u001b[0m\u001b[4;33mhttps://sqlalche.me/e/14/qzyx\u001b[0m\u001b[4;33m)\u001b[0m\n",
            "\u001b[1;33m/usr/local/lib/python3.8/dist-packages/flask_appbuilder/models/sqla/\u001b[0m\u001b[1;33minterface.py\u001b[0m\u001b[1;33m:\u001b[0m\u001b[1;33m68\u001b[0m\u001b[1;33m SAWarning\u001b[0m\u001b[33m: relationship \u001b[0m\u001b[33m'SerializedDagModel.dag_runs'\u001b[0m\u001b[33m will copy column serialized_dag.dag_id to column dag_run.dag_id, which conflicts with \u001b[0m\u001b[1;33mrelationship\u001b[0m\u001b[1;33m(\u001b[0m\u001b[33ms\u001b[0m\u001b[1;33m)\u001b[0m\u001b[33m: \u001b[0m\u001b[33m'DagRun.task_instances'\u001b[0m\u001b[33m \u001b[0m\u001b[1;33m(\u001b[0m\u001b[33mcopies task_instance.dag_id to dag_run.dag_id\u001b[0m\u001b[1;33m)\u001b[0m\u001b[33m, \u001b[0m\u001b[33m'TaskInstance.dag_run'\u001b[0m\u001b[33m \u001b[0m\u001b[1;33m(\u001b[0m\u001b[33mcopies task_instance.dag_id to dag_run.dag_id\u001b[0m\u001b[1;33m)\u001b[0m\u001b[33m. If this is not the intention, consider if these relationships should be linked with back_populates, or if \u001b[0m\u001b[33mviewonly\u001b[0m\u001b[33m=\u001b[0m\u001b[3;33mTrue\u001b[0m\u001b[33m should be applied to one or more if they are read-only. For the less common case that foreign key constraints are partially overlapping, the \u001b[0m\u001b[1;33morm.foreign\u001b[0m\u001b[1;33m(\u001b[0m\u001b[1;33m)\u001b[0m\u001b[33m annotation can be used to isolate the columns that should be written towards.   To silence this warning, add the parameter \u001b[0m\u001b[33m'\u001b[0m\u001b[33moverlaps\u001b[0m\u001b[33m=\u001b[0m\u001b[33m\"dag_run\u001b[0m\u001b[33m,task_instances\"'\u001b[0m\u001b[33m to the \u001b[0m\u001b[33m'SerializedDagModel.dag_runs'\u001b[0m\u001b[33m relationship. \u001b[0m\u001b[1;33m(\u001b[0m\u001b[33mBackground on this error at: \u001b[0m\u001b[4;33mhttps://sqlalche.me/e/14/qzyx\u001b[0m\u001b[4;33m)\u001b[0m\n",
            "  ____________       _____________\n",
            " ____    |__( )_________  __/__  /________      __\n",
            "____  /| |_  /__  ___/_  /_ __  /_  __ \\_ | /| / /\n",
            "___  ___ |  / _  /   _  __/ _  / / /_/ /_ |/ |/ /\n",
            " _/_/  |_/_/  /_/    /_/    /_/  \\____/____/|__/\n",
            "[\u001b[34m2023-02-26 13:41:05,467\u001b[0m] {\u001b[34mdagbag.py:\u001b[0m496} INFO\u001b[0m - Filling up the DagBag from \u001b[01m/dev/null\u001b[22m\u001b[0m\n",
            "[\u001b[34m2023-02-26 13:41:05,533\u001b[0m] {\u001b[34mmanager.py:\u001b[0m805} \u001b[33mWARNING\u001b[0m - \u001b[33mNo user yet created, use flask fab command to do it.\u001b[0m\n",
            "Running the Gunicorn Server with:\n",
            "Workers: 4 sync\n",
            "Host: 0.0.0.0:18273\n",
            "Timeout: 120\n",
            "Logfiles: - -\n",
            "Access Logformat: \n",
            "=================================================================            \n"
          ]
        }
      ]
    },
    {
      "cell_type": "code",
      "metadata": {
        "id": "Y1vxOegj0D5z",
        "outputId": "e13869d7-51df-4425-f778-301c67538700",
        "colab": {
          "base_uri": "https://localhost:8080/"
        }
      },
      "source": [
        "# Последующие команды не имеют отношения к Airflow\n",
        "# Они нужни только для корректной работы веб морды\n",
        "# в среде Google Colab\n",
        "\n",
        "!pip install pyngrok\n",
        "!ngrok authtoken 2MBRgJ066swk4ThgvdLuWtytQAI_3WLNSDpTtkwHYi33C27nr # найти его можно https://dashboard.ngrok.com/get-started/setup "
      ],
      "execution_count": 4,
      "outputs": [
        {
          "output_type": "stream",
          "name": "stdout",
          "text": [
            "Looking in indexes: https://pypi.org/simple, https://us-python.pkg.dev/colab-wheels/public/simple/\n",
            "Collecting pyngrok\n",
            "  Downloading pyngrok-5.2.1.tar.gz (761 kB)\n",
            "\u001b[2K     \u001b[90m━━━━━━━━━━━━━━━━━━━━━━━━━━━━━━━━━━━━━━━\u001b[0m \u001b[32m761.3/761.3 KB\u001b[0m \u001b[31m8.8 MB/s\u001b[0m eta \u001b[36m0:00:00\u001b[0m\n",
            "\u001b[?25h  Preparing metadata (setup.py) ... \u001b[?25l\u001b[?25hdone\n",
            "Requirement already satisfied: PyYAML in /usr/local/lib/python3.8/dist-packages (from pyngrok) (6.0)\n",
            "Building wheels for collected packages: pyngrok\n",
            "  Building wheel for pyngrok (setup.py) ... \u001b[?25l\u001b[?25hdone\n",
            "  Created wheel for pyngrok: filename=pyngrok-5.2.1-py3-none-any.whl size=19792 sha256=4ce9a9f43536cdb3e46d50a2e5549a7392dc5bde3d663a9d2ad6ad47c2747190\n",
            "  Stored in directory: /root/.cache/pip/wheels/5d/f2/70/526da675d32f17577ec47ac4c663084efe39d47c826b6c3bb1\n",
            "Successfully built pyngrok\n",
            "Installing collected packages: pyngrok\n",
            "Successfully installed pyngrok-5.2.1\n",
            "Authtoken saved to configuration file: /root/.ngrok2/ngrok.yml\n"
          ]
        }
      ]
    },
    {
      "cell_type": "code",
      "source": [
        "!ngrok authtoken 2MBRgJ066swk4ThgvdLuWtytQAI_3WLNSDpTtkwHYi33C27nr # найти его можно https://dashboard.ngrok.com/get-started/setup "
      ],
      "metadata": {
        "colab": {
          "base_uri": "https://localhost:8080/"
        },
        "id": "yJrWFHNpBEj9",
        "outputId": "42d08db8-cfa9-49fd-b11a-1d9609be5fae"
      },
      "execution_count": 7,
      "outputs": [
        {
          "output_type": "stream",
          "name": "stdout",
          "text": [
            "Authtoken saved to configuration file: /root/.ngrok2/ngrok.yml\n"
          ]
        }
      ]
    },
    {
      "cell_type": "code",
      "metadata": {
        "id": "6AicRo890Iyp",
        "outputId": "d46cb3e1-0408-4f24-cfa0-71e7f3a8feff",
        "colab": {
          "base_uri": "https://localhost:8080/"
        }
      },
      "source": [
        "# Создадим пользователя Airflow\n",
        "!airflow users create \\\n",
        "          --username admin \\\n",
        "          --firstname admin \\\n",
        "          --lastname admin \\\n",
        "          --role Admin \\\n",
        "          --email admin@example.org \\\n",
        "          -p 12345"
      ],
      "execution_count": 8,
      "outputs": [
        {
          "output_type": "stream",
          "name": "stdout",
          "text": [
            "\u001b[1;33m/usr/local/lib/python3.8/dist-packages/flask_appbuilder/models/sqla/\u001b[0m\u001b[1;33minterface.py\u001b[0m\u001b[1;33m:\u001b[0m\u001b[1;33m68\u001b[0m\u001b[1;33m SAWarning\u001b[0m\u001b[33m: relationship \u001b[0m\u001b[33m'DagRun.serialized_dag'\u001b[0m\u001b[33m will copy column serialized_dag.dag_id to column dag_run.dag_id, which conflicts with \u001b[0m\u001b[1;33mrelationship\u001b[0m\u001b[1;33m(\u001b[0m\u001b[33ms\u001b[0m\u001b[1;33m)\u001b[0m\u001b[33m: \u001b[0m\u001b[33m'DagRun.task_instances'\u001b[0m\u001b[33m \u001b[0m\u001b[1;33m(\u001b[0m\u001b[33mcopies task_instance.dag_id to dag_run.dag_id\u001b[0m\u001b[1;33m)\u001b[0m\u001b[33m, \u001b[0m\u001b[33m'TaskInstance.dag_run'\u001b[0m\u001b[33m \u001b[0m\u001b[1;33m(\u001b[0m\u001b[33mcopies task_instance.dag_id to dag_run.dag_id\u001b[0m\u001b[1;33m)\u001b[0m\u001b[33m. If this is not the intention, consider if these relationships should be linked with back_populates, or if \u001b[0m\u001b[33mviewonly\u001b[0m\u001b[33m=\u001b[0m\u001b[3;33mTrue\u001b[0m\u001b[33m should be applied to one or more if they are read-only. For the less common case that foreign key constraints are partially overlapping, the \u001b[0m\u001b[1;33morm.foreign\u001b[0m\u001b[1;33m(\u001b[0m\u001b[1;33m)\u001b[0m\u001b[33m annotation can be used to isolate the columns that should be written towards.   To silence this warning, add the parameter \u001b[0m\u001b[33m'\u001b[0m\u001b[33moverlaps\u001b[0m\u001b[33m=\u001b[0m\u001b[33m\"dag_run\u001b[0m\u001b[33m,task_instances\"'\u001b[0m\u001b[33m to the \u001b[0m\u001b[33m'DagRun.serialized_dag'\u001b[0m\u001b[33m relationship. \u001b[0m\u001b[1;33m(\u001b[0m\u001b[33mBackground on this error at: \u001b[0m\u001b[4;33mhttps://sqlalche.me/e/14/qzyx\u001b[0m\u001b[4;33m)\u001b[0m\n",
            "\u001b[1;33m/usr/local/lib/python3.8/dist-packages/flask_appbuilder/models/sqla/\u001b[0m\u001b[1;33minterface.py\u001b[0m\u001b[1;33m:\u001b[0m\u001b[1;33m68\u001b[0m\u001b[1;33m SAWarning\u001b[0m\u001b[33m: relationship \u001b[0m\u001b[33m'SerializedDagModel.dag_runs'\u001b[0m\u001b[33m will copy column serialized_dag.dag_id to column dag_run.dag_id, which conflicts with \u001b[0m\u001b[1;33mrelationship\u001b[0m\u001b[1;33m(\u001b[0m\u001b[33ms\u001b[0m\u001b[1;33m)\u001b[0m\u001b[33m: \u001b[0m\u001b[33m'DagRun.task_instances'\u001b[0m\u001b[33m \u001b[0m\u001b[1;33m(\u001b[0m\u001b[33mcopies task_instance.dag_id to dag_run.dag_id\u001b[0m\u001b[1;33m)\u001b[0m\u001b[33m, \u001b[0m\u001b[33m'TaskInstance.dag_run'\u001b[0m\u001b[33m \u001b[0m\u001b[1;33m(\u001b[0m\u001b[33mcopies task_instance.dag_id to dag_run.dag_id\u001b[0m\u001b[1;33m)\u001b[0m\u001b[33m. If this is not the intention, consider if these relationships should be linked with back_populates, or if \u001b[0m\u001b[33mviewonly\u001b[0m\u001b[33m=\u001b[0m\u001b[3;33mTrue\u001b[0m\u001b[33m should be applied to one or more if they are read-only. For the less common case that foreign key constraints are partially overlapping, the \u001b[0m\u001b[1;33morm.foreign\u001b[0m\u001b[1;33m(\u001b[0m\u001b[1;33m)\u001b[0m\u001b[33m annotation can be used to isolate the columns that should be written towards.   To silence this warning, add the parameter \u001b[0m\u001b[33m'\u001b[0m\u001b[33moverlaps\u001b[0m\u001b[33m=\u001b[0m\u001b[33m\"dag_run\u001b[0m\u001b[33m,task_instances\"'\u001b[0m\u001b[33m to the \u001b[0m\u001b[33m'SerializedDagModel.dag_runs'\u001b[0m\u001b[33m relationship. \u001b[0m\u001b[1;33m(\u001b[0m\u001b[33mBackground on this error at: \u001b[0m\u001b[4;33mhttps://sqlalche.me/e/14/qzyx\u001b[0m\u001b[4;33m)\u001b[0m\n",
            "admin already exist in the db\n"
          ]
        }
      ]
    },
    {
      "cell_type": "markdown",
      "metadata": {
        "id": "QZDvtrO63ntq"
      },
      "source": [
        "Поместите в dag.py следующий код.\n",
        "\n",
        "```python\n",
        "from airflow import DAG\n",
        "from datetime import timedelta\n",
        "from airflow.utils.dates import days_ago\n",
        "from airflow.operators.dummy_operator import DummyOperator\n",
        "\n",
        "dag = DAG('dag',schedule_interval=timedelta(days=1), start_date=days_ago(1))\n",
        "t1 = DummyOperator(task_id='task_1', dag=dag)\n",
        "t2 = DummyOperator(task_id='task_2',dag=dag)\n",
        "t3 = DummyOperator(task_id='task_3',dag=dag)\n",
        "t4 = DummyOperator(task_id='task_4',dag=dag)\n",
        "t5 = DummyOperator(task_id='task_5',dag=dag)\n",
        "t6 = DummyOperator(task_id='task_6',dag=dag)\n",
        "t7 = DummyOperator(task_id='task_7',dag=dag)\n",
        "```"
      ]
    },
    {
      "cell_type": "code",
      "metadata": {
        "id": "kXlUN86A3m1o",
        "colab": {
          "base_uri": "https://localhost:8080/"
        },
        "outputId": "0a745bec-85ce-49b3-c6bd-d4e6d485e2e8"
      },
      "source": [
        "# Запуск шедулера\n",
        "!airflow scheduler -D"
      ],
      "execution_count": 9,
      "outputs": [
        {
          "output_type": "stream",
          "name": "stdout",
          "text": [
            "\u001b[1;33m/usr/local/lib/python3.8/dist-packages/airflow/utils/\u001b[0m\u001b[1;33mcli.py\u001b[0m\u001b[1;33m:\u001b[0m\u001b[1;33m149\u001b[0m\u001b[1;33m SAWarning\u001b[0m\u001b[33m: relationship \u001b[0m\u001b[33m'DagRun.serialized_dag'\u001b[0m\u001b[33m will copy column serialized_dag.dag_id to column dag_run.dag_id, which conflicts with \u001b[0m\u001b[1;33mrelationship\u001b[0m\u001b[1;33m(\u001b[0m\u001b[33ms\u001b[0m\u001b[1;33m)\u001b[0m\u001b[33m: \u001b[0m\u001b[33m'DagRun.task_instances'\u001b[0m\u001b[33m \u001b[0m\u001b[1;33m(\u001b[0m\u001b[33mcopies task_instance.dag_id to dag_run.dag_id\u001b[0m\u001b[1;33m)\u001b[0m\u001b[33m, \u001b[0m\u001b[33m'TaskInstance.dag_run'\u001b[0m\u001b[33m \u001b[0m\u001b[1;33m(\u001b[0m\u001b[33mcopies task_instance.dag_id to dag_run.dag_id\u001b[0m\u001b[1;33m)\u001b[0m\u001b[33m. If this is not the intention, consider if these relationships should be linked with back_populates, or if \u001b[0m\u001b[33mviewonly\u001b[0m\u001b[33m=\u001b[0m\u001b[3;33mTrue\u001b[0m\u001b[33m should be applied to one or more if they are read-only. For the less common case that foreign key constraints are partially overlapping, the \u001b[0m\u001b[1;33morm.foreign\u001b[0m\u001b[1;33m(\u001b[0m\u001b[1;33m)\u001b[0m\u001b[33m annotation can be used to isolate the columns that should be written towards.   To silence this warning, add the parameter \u001b[0m\u001b[33m'\u001b[0m\u001b[33moverlaps\u001b[0m\u001b[33m=\u001b[0m\u001b[33m\"dag_run\u001b[0m\u001b[33m,task_instances\"'\u001b[0m\u001b[33m to the \u001b[0m\u001b[33m'DagRun.serialized_dag'\u001b[0m\u001b[33m relationship. \u001b[0m\u001b[1;33m(\u001b[0m\u001b[33mBackground on this error at: \u001b[0m\u001b[4;33mhttps://sqlalche.me/e/14/qzyx\u001b[0m\u001b[4;33m)\u001b[0m\n",
            "\u001b[1;33m/usr/local/lib/python3.8/dist-packages/airflow/utils/\u001b[0m\u001b[1;33mcli.py\u001b[0m\u001b[1;33m:\u001b[0m\u001b[1;33m149\u001b[0m\u001b[1;33m SAWarning\u001b[0m\u001b[33m: relationship \u001b[0m\u001b[33m'SerializedDagModel.dag_runs'\u001b[0m\u001b[33m will copy column serialized_dag.dag_id to column dag_run.dag_id, which conflicts with \u001b[0m\u001b[1;33mrelationship\u001b[0m\u001b[1;33m(\u001b[0m\u001b[33ms\u001b[0m\u001b[1;33m)\u001b[0m\u001b[33m: \u001b[0m\u001b[33m'DagRun.task_instances'\u001b[0m\u001b[33m \u001b[0m\u001b[1;33m(\u001b[0m\u001b[33mcopies task_instance.dag_id to dag_run.dag_id\u001b[0m\u001b[1;33m)\u001b[0m\u001b[33m, \u001b[0m\u001b[33m'TaskInstance.dag_run'\u001b[0m\u001b[33m \u001b[0m\u001b[1;33m(\u001b[0m\u001b[33mcopies task_instance.dag_id to dag_run.dag_id\u001b[0m\u001b[1;33m)\u001b[0m\u001b[33m. If this is not the intention, consider if these relationships should be linked with back_populates, or if \u001b[0m\u001b[33mviewonly\u001b[0m\u001b[33m=\u001b[0m\u001b[3;33mTrue\u001b[0m\u001b[33m should be applied to one or more if they are read-only. For the less common case that foreign key constraints are partially overlapping, the \u001b[0m\u001b[1;33morm.foreign\u001b[0m\u001b[1;33m(\u001b[0m\u001b[1;33m)\u001b[0m\u001b[33m annotation can be used to isolate the columns that should be written towards.   To silence this warning, add the parameter \u001b[0m\u001b[33m'\u001b[0m\u001b[33moverlaps\u001b[0m\u001b[33m=\u001b[0m\u001b[33m\"dag_run\u001b[0m\u001b[33m,task_instances\"'\u001b[0m\u001b[33m to the \u001b[0m\u001b[33m'SerializedDagModel.dag_runs'\u001b[0m\u001b[33m relationship. \u001b[0m\u001b[1;33m(\u001b[0m\u001b[33mBackground on this error at: \u001b[0m\u001b[4;33mhttps://sqlalche.me/e/14/qzyx\u001b[0m\u001b[4;33m)\u001b[0m\n",
            "  ____________       _____________\n",
            " ____    |__( )_________  __/__  /________      __\n",
            "____  /| |_  /__  ___/_  /_ __  /_  __ \\_ | /| / /\n",
            "___  ___ |  / _  /   _  __/ _  / / /_/ /_ |/ |/ /\n",
            " _/_/  |_/_/  /_/    /_/    /_/  \\____/____/|__/\n"
          ]
        }
      ]
    },
    {
      "cell_type": "code",
      "metadata": {
        "id": "A7jJGmYR3nGP",
        "colab": {
          "base_uri": "https://localhost:8080/"
        },
        "outputId": "812a9c95-498d-41a5-8b22-32416e2f7bb8"
      },
      "source": [
        "# Эта команда просто отображет веб морду на другой адрес\n",
        "# Его вы можете найти https://dashboard.ngrok.com/endpoints/status\n",
        "# При каждом отключении ссылка будет меняться\n",
        "!nohup ngrok http -log=stdout 18273 > /dev/null &"
      ],
      "execution_count": 10,
      "outputs": [
        {
          "output_type": "stream",
          "name": "stdout",
          "text": [
            "nohup: redirecting stderr to stdout\n"
          ]
        }
      ]
    },
    {
      "cell_type": "markdown",
      "metadata": {
        "id": "6sbOlBAm4fUp"
      },
      "source": [
        "После запуска команды выше, перейдите по адресу в ngrok и подождите  пока появится DAG с именем dag"
      ]
    },
    {
      "cell_type": "markdown",
      "metadata": {
        "id": "yah1mva1eYMK"
      },
      "source": [
        "### Задачи"
      ]
    },
    {
      "cell_type": "markdown",
      "metadata": {
        "id": "tRN4SWG-klCU"
      },
      "source": [
        "\n",
        "**Задание #1**\n",
        "\n",
        "Необходимо настроить зависимости между задачами так как указанно на картинке.\n",
        "![image.png](data:image/png;base64,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)"
      ]
    },
    {
      "cell_type": "code",
      "metadata": {
        "id": "IfJE9RhMgra6"
      },
      "source": [
        "from airflow import DAG\n",
        "from datetime import timedelta\n",
        "from airflow.utils.dates import days_ago\n",
        "from airflow.operators.dummy_operator import DummyOperator\n",
        "\n",
        "dag = DAG('dag',schedule_interval=timedelta(days=1), start_date=days_ago(1))\n",
        "t1 = DummyOperator(task_id='task_1', dag=dag)\n",
        "t2 = DummyOperator(task_id='task_2',dag=dag)\n",
        "t3 = DummyOperator(task_id='task_3',dag=dag)\n",
        "t4 = DummyOperator(task_id='task_4',dag=dag)\n",
        "t5 = DummyOperator(task_id='task_5',dag=dag)\n",
        "t6 = DummyOperator(task_id='task_6',dag=dag)\n",
        "t7 = DummyOperator(task_id='task_7',dag=dag)\n",
        "\n",
        "[t1, t2] >> t5\n",
        "[t2, t3, t4] >> t6\n",
        "[t5, t6, t4] >> t7"
      ],
      "execution_count": null,
      "outputs": []
    },
    {
      "cell_type": "markdown",
      "metadata": {
        "id": "eubgMIQsknBo"
      },
      "source": [
        "**Задание #2**\n",
        "\n",
        "Необходимо настроить зависимости между задачами так как указанно на картинке.\n",
        "\n",
        "![image.png](data:image/png;base64,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)"
      ]
    },
    {
      "cell_type": "code",
      "metadata": {
        "id": "s97wnDa4m_pT"
      },
      "source": [
        "from airflow import DAG\n",
        "from datetime import timedelta\n",
        "from airflow.utils.dates import days_ago\n",
        "from airflow.operators.dummy_operator import DummyOperator\n",
        "\n",
        "dag = DAG('dag',schedule_interval=timedelta(days=1), start_date=days_ago(1))\n",
        "t1 = DummyOperator(task_id='task_1', dag=dag)\n",
        "t2 = DummyOperator(task_id='task_2',dag=dag)\n",
        "t3 = DummyOperator(task_id='task_3',dag=dag)\n",
        "t4 = DummyOperator(task_id='task_4',dag=dag)\n",
        "t5 = DummyOperator(task_id='task_5',dag=dag)\n",
        "t6 = DummyOperator(task_id='task_6',dag=dag)\n",
        "t7 = DummyOperator(task_id='task_7',dag=dag)\n",
        "\n",
        "[t1] >> t5\n",
        "[t1] >> t6\n",
        "[t1, t5] >> t3\n",
        "[t1, t3, t6] >> t2\n",
        "[t1, t2] >> t4\n",
        "[t2] >> t7"
      ],
      "execution_count": null,
      "outputs": []
    },
    {
      "cell_type": "markdown",
      "metadata": {
        "id": "2nHwpj2ikn7r"
      },
      "source": [
        "Даг нужно написать в файл /root/airflow/dags/dag.py. Проверку можно сделать в веб интерфейсе. Прежде чем даг появится, может пройти ~ 2-3 минут."
      ]
    }
  ]
}