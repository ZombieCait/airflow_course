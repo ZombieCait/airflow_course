{
  "nbformat": 4,
  "nbformat_minor": 0,
  "metadata": {
    "colab": {
      "provenance": []
    },
    "kernelspec": {
      "name": "python3",
      "display_name": "Python 3"
    },
    "language_info": {
      "name": "python"
    }
  },
  "cells": [
    {
      "cell_type": "markdown",
      "metadata": {
        "id": "Z0I-IEE0ohyt"
      },
      "source": [
        "### Настройка Airflow\n",
        "\n",
        "Для начала вам необходимо выполнить ряд команд чтобы настроить окружение для дальнейшей работы, это позволит первое время не заниматься настройкой среды исполнения, а сразу начать писать код и работать с Airflow."
      ]
    },
    {
      "cell_type": "code",
      "metadata": {
        "id": "0unBvZMyx5H-"
      },
      "source": [
        "# Установка Airflow\n",
        "!pip install apache-airflow==2.1.4\n",
        "\n",
        "# Инициализация базы данных\n",
        "!airflow db init"
      ],
      "execution_count": null,
      "outputs": []
    },
    {
      "cell_type": "code",
      "metadata": {
        "id": "Ri_LIxa4z08a"
      },
      "source": [
        "# Создадим необходимые папки\n",
        "!mkdir /root/airflow/dags\n",
        "!touch /root/airflow/dags/dag.py"
      ],
      "execution_count": null,
      "outputs": []
    },
    {
      "cell_type": "code",
      "metadata": {
        "id": "Qx1Jfp2O0CBP"
      },
      "source": [
        "# Включим веб-сервер\n",
        "!airflow webserver -p 18273 -D"
      ],
      "execution_count": null,
      "outputs": []
    },
    {
      "cell_type": "code",
      "metadata": {
        "id": "6AicRo890Iyp"
      },
      "source": [
        "# Создадим пользователя Airflow\n",
        "!airflow users create \\\n",
        "          --username admin \\\n",
        "          --firstname admin \\\n",
        "          --lastname admin \\\n",
        "          --role Admin \\\n",
        "          --email admin@example.org \\\n",
        "          -p 12345"
      ],
      "execution_count": null,
      "outputs": []
    },
    {
      "cell_type": "markdown",
      "metadata": {
        "id": "QZDvtrO63ntq"
      },
      "source": [
        "Поместите в dag.py следующий код.\n",
        "\n",
        "```python\n",
        "from airflow import DAG\n",
        "from datetime import timedelta\n",
        "from airflow.utils.dates import days_ago\n",
        "from airflow.operators.dummy_operator import DummyOperator\n",
        "\n",
        "dag = DAG('dag',schedule_interval=timedelta(days=1), start_date=days_ago(1))\n",
        "t1 = DummyOperator(task_id='task_1', dag=dag)\n",
        "t2 = DummyOperator(task_id='task_2',dag=dag)\n",
        "t3 = DummyOperator(task_id='task_3',dag=dag)\n",
        "t4 = DummyOperator(task_id='task_4',dag=dag)\n",
        "t5 = DummyOperator(task_id='task_5',dag=dag)\n",
        "t6 = DummyOperator(task_id='task_6',dag=dag)\n",
        "t7 = DummyOperator(task_id='task_7',dag=dag)\n",
        "\n",
        "[t1, t2]>>t5\n",
        "t3>>t6\n",
        "[t5,t6] >>  t7\n",
        "t4\n",
        "```"
      ]
    },
    {
      "cell_type": "code",
      "metadata": {
        "id": "kXlUN86A3m1o"
      },
      "source": [
        "# Запуск шедулера\n",
        "!airflow scheduler -D"
      ],
      "execution_count": null,
      "outputs": []
    },
    {
      "cell_type": "code",
      "metadata": {
        "id": "A7jJGmYR3nGP"
      },
      "source": [
        "# Последующие команды не имеют отношения к Airflow\n",
        "# Они нужни только для корректной работы веб морды\n",
        "# в среде Google Colab\n",
        "\n",
        "!pip install pyngrok\n",
        "!ngrok authtoken <YOUR TOKEN> # найти его можно https://dashboard.ngrok.com/get-started/setup \n",
        "\n",
        "# Эта команда просто отображет веб морду на другой адрес\n",
        "# Его вы можете найти https://dashboard.ngrok.com/cloud-edge/status\n",
        "# При каждом отключении ссылка будет меняться\n",
        "!nohup ngrok http -log=stdout 18273 > /dev/null &"
      ],
      "execution_count": null,
      "outputs": []
    },
    {
      "cell_type": "markdown",
      "metadata": {
        "id": "6sbOlBAm4fUp"
      },
      "source": [
        "После запуска команды выше, перейдите по адресу в ngrok и подождите  пока появится DAG с именем dag"
      ]
    },
    {
      "cell_type": "markdown",
      "metadata": {
        "id": "cT_WObnV6apR"
      },
      "source": [
        "### Практика\n",
        "\n",
        "**Весь код необходимо вставлять в dag.py**"
      ]
    },
    {
      "cell_type": "markdown",
      "metadata": {
        "id": "eauQ2Ke22IrU"
      },
      "source": [
        "### Пример Хука и Оператора\n",
        "\n",
        "Приведу пример самого простого хука и оператора."
      ]
    },
    {
      "cell_type": "markdown",
      "metadata": {
        "id": "Rh9fA-OZ2Sdf"
      },
      "source": [
        "**Задание**\n",
        "\n",
        "Результат данного кода отправит в Xcom некоторое число, оно и будет ответом на вопрос.\n",
        "\n",
        "```python\n",
        "from airflow.hooks.base import BaseHook\n",
        "from airflow.models import BaseOperator\n",
        "from airflow import DAG\n",
        "from datetime import timedelta\n",
        "from airflow.utils.dates import days_ago\n",
        "\n",
        "import random\n",
        " \n",
        "\n",
        "# Кастомный хук \n",
        "class CustomHook(BaseHook):\n",
        " \n",
        "    # Метод который генерирует случайное число\n",
        "    def random_number(self):\n",
        "      random.seed(10, version=2)\n",
        "      return random.randint(0, 10)\n",
        "\n",
        "# Кастомный оператор\n",
        "class CustomOperator(BaseOperator):\n",
        "    def __init__(self,**kwargs,):\n",
        "        super().__init__(**kwargs)     \n",
        "        self.hook = None # Сюда мы будем передавать объект класса CustomHook\n",
        "\n",
        "    # Метод отправляет в Xcom некотрое значение\n",
        "    def execute(self, context):\n",
        "      \n",
        "      self.hook = CustomHook()\n",
        "      return self.hook.random_number()\n",
        "\n",
        "dag = DAG('dag', schedule_interval=timedelta(days=1), start_date=days_ago(1))\n",
        "\n",
        "t1 = CustomOperator(task_id='task_1', dag=dag)\n",
        "```\n",
        "\n"
      ]
    }
  ]
}